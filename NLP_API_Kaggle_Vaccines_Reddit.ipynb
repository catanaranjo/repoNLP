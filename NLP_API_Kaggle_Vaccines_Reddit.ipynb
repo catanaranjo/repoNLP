{
  "nbformat": 4,
  "nbformat_minor": 0,
  "metadata": {
    "colab": {
      "name": "NLP API Kaggle - Vaccines Reddit",
      "provenance": []
    },
    "kernelspec": {
      "name": "python3",
      "display_name": "Python 3"
    }
  },
  "cells": [
    {
      "cell_type": "markdown",
      "metadata": {
        "id": "eQ-ggTp8laCU"
      },
      "source": [
        "# Análisis de comentarios de Reddit acerca de vacunas\n"
      ]
    },
    {
      "cell_type": "markdown",
      "metadata": {
        "id": "pkigwd9Fg4Es"
      },
      "source": [
        "Análisis exploratorio de datos basado en: https://www.kaggle.com/fahadmehfoooz/reddit-vaccine-myths"
      ]
    },
    {
      "cell_type": "code",
      "metadata": {
        "colab": {
          "base_uri": "https://localhost:8080/"
        },
        "id": "c0QG4-b9U1Mh",
        "outputId": "7ac20904-8e0f-4520-a447-005167bdb059"
      },
      "source": [
        "!pip install spacytextblob==0.1.7\n",
        "import numpy as np \n",
        "import pandas as pd \n",
        "import os\n",
        "import missingno as msno\n",
        "import seaborn as sns\n",
        "import matplotlib.pyplot as plt\n",
        "import warnings\n",
        "import spacy\n",
        "from spacytextblob.spacytextblob import SpacyTextBlob\n",
        "from wordcloud import WordCloud\n",
        "import plotly.express as px\n",
        "import matplotlib.style as style\n",
        "import zipfile\n",
        "import json\n",
        "from google.colab import drive\n",
        "warnings.filterwarnings(\"ignore\", category=DeprecationWarning)"
      ],
      "execution_count": 1,
      "outputs": [
        {
          "output_type": "stream",
          "text": [
            "Requirement already satisfied: spacytextblob==0.1.7 in /usr/local/lib/python3.7/dist-packages (0.1.7)\n",
            "Requirement already satisfied: spacy<3.0.0,>=2.3.2 in /usr/local/lib/python3.7/dist-packages (from spacytextblob==0.1.7) (2.3.5)\n",
            "Requirement already satisfied: textblob<0.16.0,>=0.15.3 in /usr/local/lib/python3.7/dist-packages (from spacytextblob==0.1.7) (0.15.3)\n",
            "Requirement already satisfied: cymem<2.1.0,>=2.0.2 in /usr/local/lib/python3.7/dist-packages (from spacy<3.0.0,>=2.3.2->spacytextblob==0.1.7) (2.0.5)\n",
            "Requirement already satisfied: blis<0.8.0,>=0.4.0 in /usr/local/lib/python3.7/dist-packages (from spacy<3.0.0,>=2.3.2->spacytextblob==0.1.7) (0.4.1)\n",
            "Requirement already satisfied: plac<1.2.0,>=0.9.6 in /usr/local/lib/python3.7/dist-packages (from spacy<3.0.0,>=2.3.2->spacytextblob==0.1.7) (1.1.3)\n",
            "Requirement already satisfied: preshed<3.1.0,>=3.0.2 in /usr/local/lib/python3.7/dist-packages (from spacy<3.0.0,>=2.3.2->spacytextblob==0.1.7) (3.0.5)\n",
            "Requirement already satisfied: murmurhash<1.1.0,>=0.28.0 in /usr/local/lib/python3.7/dist-packages (from spacy<3.0.0,>=2.3.2->spacytextblob==0.1.7) (1.0.5)\n",
            "Requirement already satisfied: srsly<1.1.0,>=1.0.2 in /usr/local/lib/python3.7/dist-packages (from spacy<3.0.0,>=2.3.2->spacytextblob==0.1.7) (1.0.5)\n",
            "Requirement already satisfied: catalogue<1.1.0,>=0.0.7 in /usr/local/lib/python3.7/dist-packages (from spacy<3.0.0,>=2.3.2->spacytextblob==0.1.7) (1.0.0)\n",
            "Requirement already satisfied: requests<3.0.0,>=2.13.0 in /usr/local/lib/python3.7/dist-packages (from spacy<3.0.0,>=2.3.2->spacytextblob==0.1.7) (2.23.0)\n",
            "Requirement already satisfied: thinc<7.5.0,>=7.4.1 in /usr/local/lib/python3.7/dist-packages (from spacy<3.0.0,>=2.3.2->spacytextblob==0.1.7) (7.4.5)\n",
            "Requirement already satisfied: wasabi<1.1.0,>=0.4.0 in /usr/local/lib/python3.7/dist-packages (from spacy<3.0.0,>=2.3.2->spacytextblob==0.1.7) (0.8.2)\n",
            "Requirement already satisfied: tqdm<5.0.0,>=4.38.0 in /usr/local/lib/python3.7/dist-packages (from spacy<3.0.0,>=2.3.2->spacytextblob==0.1.7) (4.41.1)\n",
            "Requirement already satisfied: numpy>=1.15.0 in /usr/local/lib/python3.7/dist-packages (from spacy<3.0.0,>=2.3.2->spacytextblob==0.1.7) (1.19.5)\n",
            "Requirement already satisfied: setuptools in /usr/local/lib/python3.7/dist-packages (from spacy<3.0.0,>=2.3.2->spacytextblob==0.1.7) (57.0.0)\n",
            "Requirement already satisfied: nltk>=3.1 in /usr/local/lib/python3.7/dist-packages (from textblob<0.16.0,>=0.15.3->spacytextblob==0.1.7) (3.2.5)\n",
            "Requirement already satisfied: importlib-metadata>=0.20; python_version < \"3.8\" in /usr/local/lib/python3.7/dist-packages (from catalogue<1.1.0,>=0.0.7->spacy<3.0.0,>=2.3.2->spacytextblob==0.1.7) (4.0.1)\n",
            "Requirement already satisfied: certifi>=2017.4.17 in /usr/local/lib/python3.7/dist-packages (from requests<3.0.0,>=2.13.0->spacy<3.0.0,>=2.3.2->spacytextblob==0.1.7) (2020.12.5)\n",
            "Requirement already satisfied: chardet<4,>=3.0.2 in /usr/local/lib/python3.7/dist-packages (from requests<3.0.0,>=2.13.0->spacy<3.0.0,>=2.3.2->spacytextblob==0.1.7) (3.0.4)\n",
            "Requirement already satisfied: urllib3!=1.25.0,!=1.25.1,<1.26,>=1.21.1 in /usr/local/lib/python3.7/dist-packages (from requests<3.0.0,>=2.13.0->spacy<3.0.0,>=2.3.2->spacytextblob==0.1.7) (1.24.3)\n",
            "Requirement already satisfied: idna<3,>=2.5 in /usr/local/lib/python3.7/dist-packages (from requests<3.0.0,>=2.13.0->spacy<3.0.0,>=2.3.2->spacytextblob==0.1.7) (2.10)\n",
            "Requirement already satisfied: six in /usr/local/lib/python3.7/dist-packages (from nltk>=3.1->textblob<0.16.0,>=0.15.3->spacytextblob==0.1.7) (1.15.0)\n",
            "Requirement already satisfied: typing-extensions>=3.6.4; python_version < \"3.8\" in /usr/local/lib/python3.7/dist-packages (from importlib-metadata>=0.20; python_version < \"3.8\"->catalogue<1.1.0,>=0.0.7->spacy<3.0.0,>=2.3.2->spacytextblob==0.1.7) (3.7.4.3)\n",
            "Requirement already satisfied: zipp>=0.5 in /usr/local/lib/python3.7/dist-packages (from importlib-metadata>=0.20; python_version < \"3.8\"->catalogue<1.1.0,>=0.0.7->spacy<3.0.0,>=2.3.2->spacytextblob==0.1.7) (3.4.1)\n"
          ],
          "name": "stdout"
        }
      ]
    },
    {
      "cell_type": "markdown",
      "metadata": {
        "id": "X679tiUbSRC6"
      },
      "source": [
        "# Utilizando la API de Kaggle para obtener el dataset"
      ]
    },
    {
      "cell_type": "markdown",
      "metadata": {
        "id": "Xgpy-cuGUMIA"
      },
      "source": [
        "Agregar cuenta de Drive al entorno de ejecución"
      ]
    },
    {
      "cell_type": "code",
      "metadata": {
        "colab": {
          "base_uri": "https://localhost:8080/"
        },
        "id": "4xqPQE6BRwAT",
        "outputId": "c876e562-a2d7-4af4-c257-b20c4c45259b"
      },
      "source": [
        "drive.mount('/content/drive')"
      ],
      "execution_count": 2,
      "outputs": [
        {
          "output_type": "stream",
          "text": [
            "Mounted at /content/drive\n"
          ],
          "name": "stdout"
        }
      ]
    },
    {
      "cell_type": "markdown",
      "metadata": {
        "id": "sWkkgrf7WPYH"
      },
      "source": [
        "Es necesario ir a la cuenta personal de Kaggle y descargar la llave de la API que se genera desde la opción \"Create new API Token\""
      ]
    },
    {
      "cell_type": "code",
      "metadata": {
        "colab": {
          "base_uri": "https://localhost:8080/"
        },
        "id": "MeJjb7QjQ95T",
        "outputId": "f64922c2-e01d-47ba-984c-3c9e53973498"
      },
      "source": [
        "!pip install -q kaggle\n",
        "!pip install -q kaggle-cli\n",
        "!mkdir -p ~/.kaggle\n",
        "!cp \"/content/drive/MyDrive/kaggle.json\" ~/.kaggle/\n",
        "!cat ~/.kaggle/kaggle.json\n",
        "!chmod 600 ~/.kaggle/kaggle.json"
      ],
      "execution_count": 3,
      "outputs": [
        {
          "output_type": "stream",
          "text": [
            "\u001b[K     |████████████████████████████████| 81kB 5.8MB/s \n",
            "\u001b[K     |████████████████████████████████| 4.2MB 34.2MB/s \n",
            "\u001b[K     |████████████████████████████████| 51kB 6.0MB/s \n",
            "\u001b[K     |████████████████████████████████| 112kB 72.9MB/s \n",
            "\u001b[K     |████████████████████████████████| 143kB 67.1MB/s \n",
            "\u001b[?25h  Building wheel for kaggle-cli (setup.py) ... \u001b[?25l\u001b[?25hdone\n",
            "  Building wheel for lxml (setup.py) ... \u001b[?25lerror\n",
            "\u001b[31m  ERROR: Failed building wheel for lxml\u001b[0m\n",
            "\u001b[?25h  Building wheel for PrettyTable (setup.py) ... \u001b[?25l\u001b[?25hdone\n",
            "  Building wheel for pyperclip (setup.py) ... \u001b[?25l\u001b[?25hdone\n",
            "    Running setup.py install for lxml ... \u001b[?25l\u001b[?25herror\n",
            "\u001b[31mERROR: Command errored out with exit status 1: /usr/bin/python3 -u -c 'import sys, setuptools, tokenize; sys.argv[0] = '\"'\"'/tmp/pip-install-lyy32n6f/lxml/setup.py'\"'\"'; __file__='\"'\"'/tmp/pip-install-lyy32n6f/lxml/setup.py'\"'\"';f=getattr(tokenize, '\"'\"'open'\"'\"', open)(__file__);code=f.read().replace('\"'\"'\\r\\n'\"'\"', '\"'\"'\\n'\"'\"');f.close();exec(compile(code, __file__, '\"'\"'exec'\"'\"'))' install --record /tmp/pip-record-y4kuqtd9/install-record.txt --single-version-externally-managed --compile Check the logs for full command output.\u001b[0m\n",
            "{\"username\":\"catalinanaranjo\",\"key\":\"3665abaedf46e3fee5a11e8d83872f76\"}"
          ],
          "name": "stdout"
        }
      ]
    },
    {
      "cell_type": "code",
      "metadata": {
        "colab": {
          "base_uri": "https://localhost:8080/"
        },
        "id": "MQxLDfCBSw9w",
        "outputId": "d7043396-fdb4-414f-9ac2-80273daae500"
      },
      "source": [
        "!kaggle datasets download -d gpreda/reddit-vaccine-myths"
      ],
      "execution_count": 4,
      "outputs": [
        {
          "output_type": "stream",
          "text": [
            "Downloading reddit-vaccine-myths.zip to /content\n",
            "\r  0% 0.00/229k [00:00<?, ?B/s]\n",
            "\r100% 229k/229k [00:00<00:00, 79.5MB/s]\n"
          ],
          "name": "stdout"
        }
      ]
    },
    {
      "cell_type": "code",
      "metadata": {
        "colab": {
          "base_uri": "https://localhost:8080/",
          "height": 289
        },
        "id": "oIgQXqGSSxBE",
        "outputId": "29448573-028d-4b4d-b1bd-29f81e060691"
      },
      "source": [
        "file_dezip = zipfile.ZipFile('/content/reddit-vaccine-myths.zip')\n",
        "file_dezip.extractall('/content')\n",
        "vaccine = pd.read_csv('/content/reddit_vm.csv')\n",
        "vaccine.head()"
      ],
      "execution_count": 5,
      "outputs": [
        {
          "output_type": "execute_result",
          "data": {
            "text/html": [
              "<div>\n",
              "<style scoped>\n",
              "    .dataframe tbody tr th:only-of-type {\n",
              "        vertical-align: middle;\n",
              "    }\n",
              "\n",
              "    .dataframe tbody tr th {\n",
              "        vertical-align: top;\n",
              "    }\n",
              "\n",
              "    .dataframe thead th {\n",
              "        text-align: right;\n",
              "    }\n",
              "</style>\n",
              "<table border=\"1\" class=\"dataframe\">\n",
              "  <thead>\n",
              "    <tr style=\"text-align: right;\">\n",
              "      <th></th>\n",
              "      <th>title</th>\n",
              "      <th>score</th>\n",
              "      <th>id</th>\n",
              "      <th>url</th>\n",
              "      <th>comms_num</th>\n",
              "      <th>created</th>\n",
              "      <th>body</th>\n",
              "      <th>timestamp</th>\n",
              "    </tr>\n",
              "  </thead>\n",
              "  <tbody>\n",
              "    <tr>\n",
              "      <th>0</th>\n",
              "      <td>Health Canada approves AstraZeneca COVID-19 va...</td>\n",
              "      <td>7</td>\n",
              "      <td>lt74vw</td>\n",
              "      <td>https://www.canadaforums.ca/2021/02/health-can...</td>\n",
              "      <td>0</td>\n",
              "      <td>1.614400e+09</td>\n",
              "      <td>NaN</td>\n",
              "      <td>2021-02-27 06:33:45</td>\n",
              "    </tr>\n",
              "    <tr>\n",
              "      <th>1</th>\n",
              "      <td>COVID-19 in Canada: 'Vaccination passports' a ...</td>\n",
              "      <td>2</td>\n",
              "      <td>lsh0ij</td>\n",
              "      <td>https://www.canadaforums.ca/2021/02/covid-19-i...</td>\n",
              "      <td>1</td>\n",
              "      <td>1.614316e+09</td>\n",
              "      <td>NaN</td>\n",
              "      <td>2021-02-26 07:11:07</td>\n",
              "    </tr>\n",
              "    <tr>\n",
              "      <th>2</th>\n",
              "      <td>Coronavirus variants could fuel Canada's third...</td>\n",
              "      <td>6</td>\n",
              "      <td>lohlle</td>\n",
              "      <td>https://www.canadaforums.ca/2021/02/coronaviru...</td>\n",
              "      <td>0</td>\n",
              "      <td>1.613887e+09</td>\n",
              "      <td>NaN</td>\n",
              "      <td>2021-02-21 07:50:08</td>\n",
              "    </tr>\n",
              "    <tr>\n",
              "      <th>3</th>\n",
              "      <td>Canadian government to extend COVID-19 emergen...</td>\n",
              "      <td>1</td>\n",
              "      <td>lnptv8</td>\n",
              "      <td>https://www.canadaforums.ca/2021/02/canadian-g...</td>\n",
              "      <td>0</td>\n",
              "      <td>1.613796e+09</td>\n",
              "      <td>NaN</td>\n",
              "      <td>2021-02-20 06:35:13</td>\n",
              "    </tr>\n",
              "    <tr>\n",
              "      <th>4</th>\n",
              "      <td>Canada: Pfizer is 'extremely committed' to mee...</td>\n",
              "      <td>6</td>\n",
              "      <td>lkslm6</td>\n",
              "      <td>https://www.canadaforums.ca/2021/02/canada-pfi...</td>\n",
              "      <td>0</td>\n",
              "      <td>1.613468e+09</td>\n",
              "      <td>NaN</td>\n",
              "      <td>2021-02-16 11:36:28</td>\n",
              "    </tr>\n",
              "  </tbody>\n",
              "</table>\n",
              "</div>"
            ],
            "text/plain": [
              "                                               title  ...            timestamp\n",
              "0  Health Canada approves AstraZeneca COVID-19 va...  ...  2021-02-27 06:33:45\n",
              "1  COVID-19 in Canada: 'Vaccination passports' a ...  ...  2021-02-26 07:11:07\n",
              "2  Coronavirus variants could fuel Canada's third...  ...  2021-02-21 07:50:08\n",
              "3  Canadian government to extend COVID-19 emergen...  ...  2021-02-20 06:35:13\n",
              "4  Canada: Pfizer is 'extremely committed' to mee...  ...  2021-02-16 11:36:28\n",
              "\n",
              "[5 rows x 8 columns]"
            ]
          },
          "metadata": {
            "tags": []
          },
          "execution_count": 5
        }
      ]
    },
    {
      "cell_type": "code",
      "metadata": {
        "colab": {
          "base_uri": "https://localhost:8080/"
        },
        "id": "iWYyGTiXSxEs",
        "outputId": "bc050e3c-3e03-4d6c-ff98-cf12ff3c13ec"
      },
      "source": [
        "print(f'The number of rows are {vaccine.shape[0] } and the number of columns are {vaccine.shape[1]}')"
      ],
      "execution_count": 7,
      "outputs": [
        {
          "output_type": "stream",
          "text": [
            "The number of rows are 1531 and the number of columns are 8\n"
          ],
          "name": "stdout"
        }
      ]
    },
    {
      "cell_type": "code",
      "metadata": {
        "colab": {
          "base_uri": "https://localhost:8080/"
        },
        "id": "bzbdJw1IXwa9",
        "outputId": "3213c3d1-9b89-4c58-ac29-1aa15567764f"
      },
      "source": [
        "vaccine.info()"
      ],
      "execution_count": 8,
      "outputs": [
        {
          "output_type": "stream",
          "text": [
            "<class 'pandas.core.frame.DataFrame'>\n",
            "RangeIndex: 1531 entries, 0 to 1530\n",
            "Data columns (total 8 columns):\n",
            " #   Column     Non-Null Count  Dtype  \n",
            "---  ------     --------------  -----  \n",
            " 0   title      1531 non-null   object \n",
            " 1   score      1531 non-null   int64  \n",
            " 2   id         1531 non-null   object \n",
            " 3   url        452 non-null    object \n",
            " 4   comms_num  1531 non-null   int64  \n",
            " 5   created    1531 non-null   float64\n",
            " 6   body       1165 non-null   object \n",
            " 7   timestamp  1531 non-null   object \n",
            "dtypes: float64(1), int64(2), object(5)\n",
            "memory usage: 95.8+ KB\n"
          ],
          "name": "stdout"
        }
      ]
    },
    {
      "cell_type": "code",
      "metadata": {
        "colab": {
          "base_uri": "https://localhost:8080/"
        },
        "id": "6TcAMqdAXwc_",
        "outputId": "ba3c231e-7500-4a78-95aa-e50765dc069f"
      },
      "source": [
        "categorical_col, covariate_val=[],[]\n",
        "\n",
        "for i in vaccine.columns:\n",
        "    \n",
        "    if vaccine[i].dtype == 'object':\n",
        "        categorical_col.append(i)\n",
        "    else:\n",
        "        covariate_val.append(i)\n",
        "        \n",
        "print('The categorical features are :')\n",
        "print()\n",
        "for i in range(len(categorical_col)):\n",
        "    print(f'{i+1}. {categorical_col[i]}')\n",
        "        \n",
        "print()\n",
        "print('The covariate features are :')\n",
        "print()\n",
        "for i in range(len(covariate_val)):\n",
        "    print(f'{i+1}. {covariate_val[i]}')\n",
        "        \n",
        "print()"
      ],
      "execution_count": 9,
      "outputs": [
        {
          "output_type": "stream",
          "text": [
            "The categorical features are :\n",
            "\n",
            "1. title\n",
            "2. id\n",
            "3. url\n",
            "4. body\n",
            "5. timestamp\n",
            "\n",
            "The covariate features are :\n",
            "\n",
            "1. score\n",
            "2. comms_num\n",
            "3. created\n",
            "\n"
          ],
          "name": "stdout"
        }
      ]
    },
    {
      "cell_type": "code",
      "metadata": {
        "colab": {
          "base_uri": "https://localhost:8080/",
          "height": 294
        },
        "id": "ZfphBAzaXwfG",
        "outputId": "6b2fede8-3bae-41b4-ecea-bbb8a9828a4f"
      },
      "source": [
        "vaccine.describe()"
      ],
      "execution_count": 10,
      "outputs": [
        {
          "output_type": "execute_result",
          "data": {
            "text/html": [
              "<div>\n",
              "<style scoped>\n",
              "    .dataframe tbody tr th:only-of-type {\n",
              "        vertical-align: middle;\n",
              "    }\n",
              "\n",
              "    .dataframe tbody tr th {\n",
              "        vertical-align: top;\n",
              "    }\n",
              "\n",
              "    .dataframe thead th {\n",
              "        text-align: right;\n",
              "    }\n",
              "</style>\n",
              "<table border=\"1\" class=\"dataframe\">\n",
              "  <thead>\n",
              "    <tr style=\"text-align: right;\">\n",
              "      <th></th>\n",
              "      <th>score</th>\n",
              "      <th>comms_num</th>\n",
              "      <th>created</th>\n",
              "    </tr>\n",
              "  </thead>\n",
              "  <tbody>\n",
              "    <tr>\n",
              "      <th>count</th>\n",
              "      <td>1531.000000</td>\n",
              "      <td>1531.00000</td>\n",
              "      <td>1.531000e+03</td>\n",
              "    </tr>\n",
              "    <tr>\n",
              "      <th>mean</th>\n",
              "      <td>3.728935</td>\n",
              "      <td>1.89484</td>\n",
              "      <td>1.543393e+09</td>\n",
              "    </tr>\n",
              "    <tr>\n",
              "      <th>std</th>\n",
              "      <td>30.468397</td>\n",
              "      <td>16.49908</td>\n",
              "      <td>7.029850e+07</td>\n",
              "    </tr>\n",
              "    <tr>\n",
              "      <th>min</th>\n",
              "      <td>-12.000000</td>\n",
              "      <td>0.00000</td>\n",
              "      <td>1.389624e+09</td>\n",
              "    </tr>\n",
              "    <tr>\n",
              "      <th>25%</th>\n",
              "      <td>1.000000</td>\n",
              "      <td>0.00000</td>\n",
              "      <td>1.554246e+09</td>\n",
              "    </tr>\n",
              "    <tr>\n",
              "      <th>50%</th>\n",
              "      <td>1.000000</td>\n",
              "      <td>0.00000</td>\n",
              "      <td>1.568874e+09</td>\n",
              "    </tr>\n",
              "    <tr>\n",
              "      <th>75%</th>\n",
              "      <td>3.000000</td>\n",
              "      <td>1.00000</td>\n",
              "      <td>1.581115e+09</td>\n",
              "    </tr>\n",
              "    <tr>\n",
              "      <th>max</th>\n",
              "      <td>1182.000000</td>\n",
              "      <td>596.00000</td>\n",
              "      <td>1.621304e+09</td>\n",
              "    </tr>\n",
              "  </tbody>\n",
              "</table>\n",
              "</div>"
            ],
            "text/plain": [
              "             score   comms_num       created\n",
              "count  1531.000000  1531.00000  1.531000e+03\n",
              "mean      3.728935     1.89484  1.543393e+09\n",
              "std      30.468397    16.49908  7.029850e+07\n",
              "min     -12.000000     0.00000  1.389624e+09\n",
              "25%       1.000000     0.00000  1.554246e+09\n",
              "50%       1.000000     0.00000  1.568874e+09\n",
              "75%       3.000000     1.00000  1.581115e+09\n",
              "max    1182.000000   596.00000  1.621304e+09"
            ]
          },
          "metadata": {
            "tags": []
          },
          "execution_count": 10
        }
      ]
    },
    {
      "cell_type": "code",
      "metadata": {
        "colab": {
          "base_uri": "https://localhost:8080/",
          "height": 289
        },
        "id": "wblnRNSGXwha",
        "outputId": "1289689d-b96f-48b1-89d6-b7df002f86b6"
      },
      "source": [
        "vaccine['year']=pd.DatetimeIndex(vaccine['timestamp']).year\n",
        "vaccine['month']=pd.DatetimeIndex(vaccine['timestamp']).month\n",
        "vaccine.head(5)"
      ],
      "execution_count": 11,
      "outputs": [
        {
          "output_type": "execute_result",
          "data": {
            "text/html": [
              "<div>\n",
              "<style scoped>\n",
              "    .dataframe tbody tr th:only-of-type {\n",
              "        vertical-align: middle;\n",
              "    }\n",
              "\n",
              "    .dataframe tbody tr th {\n",
              "        vertical-align: top;\n",
              "    }\n",
              "\n",
              "    .dataframe thead th {\n",
              "        text-align: right;\n",
              "    }\n",
              "</style>\n",
              "<table border=\"1\" class=\"dataframe\">\n",
              "  <thead>\n",
              "    <tr style=\"text-align: right;\">\n",
              "      <th></th>\n",
              "      <th>title</th>\n",
              "      <th>score</th>\n",
              "      <th>id</th>\n",
              "      <th>url</th>\n",
              "      <th>comms_num</th>\n",
              "      <th>created</th>\n",
              "      <th>body</th>\n",
              "      <th>timestamp</th>\n",
              "      <th>year</th>\n",
              "      <th>month</th>\n",
              "    </tr>\n",
              "  </thead>\n",
              "  <tbody>\n",
              "    <tr>\n",
              "      <th>0</th>\n",
              "      <td>Health Canada approves AstraZeneca COVID-19 va...</td>\n",
              "      <td>7</td>\n",
              "      <td>lt74vw</td>\n",
              "      <td>https://www.canadaforums.ca/2021/02/health-can...</td>\n",
              "      <td>0</td>\n",
              "      <td>1.614400e+09</td>\n",
              "      <td>NaN</td>\n",
              "      <td>2021-02-27 06:33:45</td>\n",
              "      <td>2021</td>\n",
              "      <td>2</td>\n",
              "    </tr>\n",
              "    <tr>\n",
              "      <th>1</th>\n",
              "      <td>COVID-19 in Canada: 'Vaccination passports' a ...</td>\n",
              "      <td>2</td>\n",
              "      <td>lsh0ij</td>\n",
              "      <td>https://www.canadaforums.ca/2021/02/covid-19-i...</td>\n",
              "      <td>1</td>\n",
              "      <td>1.614316e+09</td>\n",
              "      <td>NaN</td>\n",
              "      <td>2021-02-26 07:11:07</td>\n",
              "      <td>2021</td>\n",
              "      <td>2</td>\n",
              "    </tr>\n",
              "    <tr>\n",
              "      <th>2</th>\n",
              "      <td>Coronavirus variants could fuel Canada's third...</td>\n",
              "      <td>6</td>\n",
              "      <td>lohlle</td>\n",
              "      <td>https://www.canadaforums.ca/2021/02/coronaviru...</td>\n",
              "      <td>0</td>\n",
              "      <td>1.613887e+09</td>\n",
              "      <td>NaN</td>\n",
              "      <td>2021-02-21 07:50:08</td>\n",
              "      <td>2021</td>\n",
              "      <td>2</td>\n",
              "    </tr>\n",
              "    <tr>\n",
              "      <th>3</th>\n",
              "      <td>Canadian government to extend COVID-19 emergen...</td>\n",
              "      <td>1</td>\n",
              "      <td>lnptv8</td>\n",
              "      <td>https://www.canadaforums.ca/2021/02/canadian-g...</td>\n",
              "      <td>0</td>\n",
              "      <td>1.613796e+09</td>\n",
              "      <td>NaN</td>\n",
              "      <td>2021-02-20 06:35:13</td>\n",
              "      <td>2021</td>\n",
              "      <td>2</td>\n",
              "    </tr>\n",
              "    <tr>\n",
              "      <th>4</th>\n",
              "      <td>Canada: Pfizer is 'extremely committed' to mee...</td>\n",
              "      <td>6</td>\n",
              "      <td>lkslm6</td>\n",
              "      <td>https://www.canadaforums.ca/2021/02/canada-pfi...</td>\n",
              "      <td>0</td>\n",
              "      <td>1.613468e+09</td>\n",
              "      <td>NaN</td>\n",
              "      <td>2021-02-16 11:36:28</td>\n",
              "      <td>2021</td>\n",
              "      <td>2</td>\n",
              "    </tr>\n",
              "  </tbody>\n",
              "</table>\n",
              "</div>"
            ],
            "text/plain": [
              "                                               title  score  ...  year month\n",
              "0  Health Canada approves AstraZeneca COVID-19 va...      7  ...  2021     2\n",
              "1  COVID-19 in Canada: 'Vaccination passports' a ...      2  ...  2021     2\n",
              "2  Coronavirus variants could fuel Canada's third...      6  ...  2021     2\n",
              "3  Canadian government to extend COVID-19 emergen...      1  ...  2021     2\n",
              "4  Canada: Pfizer is 'extremely committed' to mee...      6  ...  2021     2\n",
              "\n",
              "[5 rows x 10 columns]"
            ]
          },
          "metadata": {
            "tags": []
          },
          "execution_count": 11
        }
      ]
    },
    {
      "cell_type": "code",
      "metadata": {
        "colab": {
          "base_uri": "https://localhost:8080/",
          "height": 287
        },
        "id": "DFP0KxwmXwjf",
        "outputId": "d33daa07-2bda-45cf-9985-939d933129af"
      },
      "source": [
        "pearsoncorrelation = vaccine.corr(method='pearson')\n",
        "sns.heatmap(pearsoncorrelation, \n",
        "            xticklabels=pearsoncorrelation.columns,\n",
        "            yticklabels=pearsoncorrelation.columns,\n",
        "            cmap='RdBu_r',\n",
        "            annot=True,\n",
        "            linewidth=0.5)"
      ],
      "execution_count": 12,
      "outputs": [
        {
          "output_type": "execute_result",
          "data": {
            "text/plain": [
              "<matplotlib.axes._subplots.AxesSubplot at 0x7fecb292a4d0>"
            ]
          },
          "metadata": {
            "tags": []
          },
          "execution_count": 12
        },
        {
          "output_type": "display_data",
          "data": {
            "image/png": "[encoded data removed]",
            "text/plain": [
              "<Figure size 432x288 with 2 Axes>"
            ]
          },
          "metadata": {
            "tags": [],
            "needs_background": "light"
          }
        }
      ]
    },
    {
      "cell_type": "code",
      "metadata": {
        "colab": {
          "base_uri": "https://localhost:8080/",
          "height": 297
        },
        "id": "WIpUej7nXwll",
        "outputId": "7a195074-6d7b-4f52-ac1f-43bd3c2cfa13"
      },
      "source": [
        "sns.countplot(data=vaccine,x='year')"
      ],
      "execution_count": 13,
      "outputs": [
        {
          "output_type": "execute_result",
          "data": {
            "text/plain": [
              "<matplotlib.axes._subplots.AxesSubplot at 0x7fecb2893bd0>"
            ]
          },
          "metadata": {
            "tags": []
          },
          "execution_count": 13
        },
        {
          "output_type": "display_data",
          "data": {
            "image/png": "[encoded data removed]",
            "text/plain": [
              "<Figure size 432x288 with 1 Axes>"
            ]
          },
          "metadata": {
            "tags": [],
            "needs_background": "light"
          }
        }
      ]
    },
    {
      "cell_type": "code",
      "metadata": {
        "colab": {
          "base_uri": "https://localhost:8080/",
          "height": 371
        },
        "id": "el6P2HztXwnw",
        "outputId": "1389f381-7964-47a3-8925-fee43680687b"
      },
      "source": [
        "fig, axs = plt.subplots(1,1, figsize=(12,5))\n",
        "style.use('seaborn-poster') \n",
        "sns.countplot(data=vaccine, x='month',palette = 'hls',hue='year')"
      ],
      "execution_count": 15,
      "outputs": [
        {
          "output_type": "execute_result",
          "data": {
            "text/plain": [
              "<matplotlib.axes._subplots.AxesSubplot at 0x7fecb1632410>"
            ]
          },
          "metadata": {
            "tags": []
          },
          "execution_count": 15
        },
        {
          "output_type": "display_data",
          "data": {
            "image/png": "[encoded data removed]",
            "text/plain": [
              "<Figure size 864x360 with 1 Axes>"
            ]
          },
          "metadata": {
            "tags": [],
            "needs_background": "light"
          }
        }
      ]
    },
    {
      "cell_type": "markdown",
      "metadata": {
        "id": "WaxZ1rTKejb1"
      },
      "source": [
        "5.1 Dropping Columns With High Correlation And Null Values"
      ]
    },
    {
      "cell_type": "code",
      "metadata": {
        "colab": {
          "base_uri": "https://localhost:8080/",
          "height": 202
        },
        "id": "MAt5LNM5Xwr7",
        "outputId": "1a1aa9a7-8430-4c82-f3c2-1f3072dd5ece"
      },
      "source": [
        "vaccine.drop(columns=['comms_num','id','url','created','timestamp'], inplace=True)\n",
        "vaccine.head()"
      ],
      "execution_count": 16,
      "outputs": [
        {
          "output_type": "execute_result",
          "data": {
            "text/html": [
              "<div>\n",
              "<style scoped>\n",
              "    .dataframe tbody tr th:only-of-type {\n",
              "        vertical-align: middle;\n",
              "    }\n",
              "\n",
              "    .dataframe tbody tr th {\n",
              "        vertical-align: top;\n",
              "    }\n",
              "\n",
              "    .dataframe thead th {\n",
              "        text-align: right;\n",
              "    }\n",
              "</style>\n",
              "<table border=\"1\" class=\"dataframe\">\n",
              "  <thead>\n",
              "    <tr style=\"text-align: right;\">\n",
              "      <th></th>\n",
              "      <th>title</th>\n",
              "      <th>score</th>\n",
              "      <th>body</th>\n",
              "      <th>year</th>\n",
              "      <th>month</th>\n",
              "    </tr>\n",
              "  </thead>\n",
              "  <tbody>\n",
              "    <tr>\n",
              "      <th>0</th>\n",
              "      <td>Health Canada approves AstraZeneca COVID-19 va...</td>\n",
              "      <td>7</td>\n",
              "      <td>NaN</td>\n",
              "      <td>2021</td>\n",
              "      <td>2</td>\n",
              "    </tr>\n",
              "    <tr>\n",
              "      <th>1</th>\n",
              "      <td>COVID-19 in Canada: 'Vaccination passports' a ...</td>\n",
              "      <td>2</td>\n",
              "      <td>NaN</td>\n",
              "      <td>2021</td>\n",
              "      <td>2</td>\n",
              "    </tr>\n",
              "    <tr>\n",
              "      <th>2</th>\n",
              "      <td>Coronavirus variants could fuel Canada's third...</td>\n",
              "      <td>6</td>\n",
              "      <td>NaN</td>\n",
              "      <td>2021</td>\n",
              "      <td>2</td>\n",
              "    </tr>\n",
              "    <tr>\n",
              "      <th>3</th>\n",
              "      <td>Canadian government to extend COVID-19 emergen...</td>\n",
              "      <td>1</td>\n",
              "      <td>NaN</td>\n",
              "      <td>2021</td>\n",
              "      <td>2</td>\n",
              "    </tr>\n",
              "    <tr>\n",
              "      <th>4</th>\n",
              "      <td>Canada: Pfizer is 'extremely committed' to mee...</td>\n",
              "      <td>6</td>\n",
              "      <td>NaN</td>\n",
              "      <td>2021</td>\n",
              "      <td>2</td>\n",
              "    </tr>\n",
              "  </tbody>\n",
              "</table>\n",
              "</div>"
            ],
            "text/plain": [
              "                                               title  score body  year  month\n",
              "0  Health Canada approves AstraZeneca COVID-19 va...      7  NaN  2021      2\n",
              "1  COVID-19 in Canada: 'Vaccination passports' a ...      2  NaN  2021      2\n",
              "2  Coronavirus variants could fuel Canada's third...      6  NaN  2021      2\n",
              "3  Canadian government to extend COVID-19 emergen...      1  NaN  2021      2\n",
              "4  Canada: Pfizer is 'extremely committed' to mee...      6  NaN  2021      2"
            ]
          },
          "metadata": {
            "tags": []
          },
          "execution_count": 16
        }
      ]
    },
    {
      "cell_type": "code",
      "metadata": {
        "colab": {
          "base_uri": "https://localhost:8080/",
          "height": 202
        },
        "id": "Dfryrq52Xwpz",
        "outputId": "e6363fd9-7da5-41e8-8bad-c92c31adaa5f"
      },
      "source": [
        "#Lowercase the text columns\n",
        "vaccine['title'] = vaccine['title'].astype(str)\n",
        "vaccine['body'] = vaccine['body'].astype(str)\n",
        "\n",
        "\n",
        "vaccine['title'] = vaccine['title'].apply(lambda word: \" \".join(word.lower() for word in word.split()))\n",
        "vaccine['body'] = vaccine['body'].apply(lambda word: \" \".join(word.lower() for word in word.split()))\n",
        "\n",
        "vaccine.head()"
      ],
      "execution_count": 17,
      "outputs": [
        {
          "output_type": "execute_result",
          "data": {
            "text/html": [
              "<div>\n",
              "<style scoped>\n",
              "    .dataframe tbody tr th:only-of-type {\n",
              "        vertical-align: middle;\n",
              "    }\n",
              "\n",
              "    .dataframe tbody tr th {\n",
              "        vertical-align: top;\n",
              "    }\n",
              "\n",
              "    .dataframe thead th {\n",
              "        text-align: right;\n",
              "    }\n",
              "</style>\n",
              "<table border=\"1\" class=\"dataframe\">\n",
              "  <thead>\n",
              "    <tr style=\"text-align: right;\">\n",
              "      <th></th>\n",
              "      <th>title</th>\n",
              "      <th>score</th>\n",
              "      <th>body</th>\n",
              "      <th>year</th>\n",
              "      <th>month</th>\n",
              "    </tr>\n",
              "  </thead>\n",
              "  <tbody>\n",
              "    <tr>\n",
              "      <th>0</th>\n",
              "      <td>health canada approves astrazeneca covid-19 va...</td>\n",
              "      <td>7</td>\n",
              "      <td>nan</td>\n",
              "      <td>2021</td>\n",
              "      <td>2</td>\n",
              "    </tr>\n",
              "    <tr>\n",
              "      <th>1</th>\n",
              "      <td>covid-19 in canada: 'vaccination passports' a ...</td>\n",
              "      <td>2</td>\n",
              "      <td>nan</td>\n",
              "      <td>2021</td>\n",
              "      <td>2</td>\n",
              "    </tr>\n",
              "    <tr>\n",
              "      <th>2</th>\n",
              "      <td>coronavirus variants could fuel canada's third...</td>\n",
              "      <td>6</td>\n",
              "      <td>nan</td>\n",
              "      <td>2021</td>\n",
              "      <td>2</td>\n",
              "    </tr>\n",
              "    <tr>\n",
              "      <th>3</th>\n",
              "      <td>canadian government to extend covid-19 emergen...</td>\n",
              "      <td>1</td>\n",
              "      <td>nan</td>\n",
              "      <td>2021</td>\n",
              "      <td>2</td>\n",
              "    </tr>\n",
              "    <tr>\n",
              "      <th>4</th>\n",
              "      <td>canada: pfizer is 'extremely committed' to mee...</td>\n",
              "      <td>6</td>\n",
              "      <td>nan</td>\n",
              "      <td>2021</td>\n",
              "      <td>2</td>\n",
              "    </tr>\n",
              "  </tbody>\n",
              "</table>\n",
              "</div>"
            ],
            "text/plain": [
              "                                               title  score body  year  month\n",
              "0  health canada approves astrazeneca covid-19 va...      7  nan  2021      2\n",
              "1  covid-19 in canada: 'vaccination passports' a ...      2  nan  2021      2\n",
              "2  coronavirus variants could fuel canada's third...      6  nan  2021      2\n",
              "3  canadian government to extend covid-19 emergen...      1  nan  2021      2\n",
              "4  canada: pfizer is 'extremely committed' to mee...      6  nan  2021      2"
            ]
          },
          "metadata": {
            "tags": []
          },
          "execution_count": 17
        }
      ]
    },
    {
      "cell_type": "markdown",
      "metadata": {
        "id": "QcbMua9_ewkJ"
      },
      "source": [
        "Stopwords"
      ]
    },
    {
      "cell_type": "code",
      "metadata": {
        "colab": {
          "base_uri": "https://localhost:8080/",
          "height": 237
        },
        "id": "cfkblvXyXwuh",
        "outputId": "7899287d-c178-4327-b59b-ea6463192c79"
      },
      "source": [
        "import nltk\n",
        "nltk.download('stopwords')\n",
        "from nltk.corpus import stopwords\n",
        "\n",
        "stopwords = nltk.corpus.stopwords.words('english')\n",
        "vaccine['title'] = vaccine['title'].apply(lambda word: \" \".join(word for word in word.split() if word not in stopwords))\n",
        "vaccine['body'] = vaccine['body'].apply(lambda word: \" \".join(word for word in word.split() if word not in stopwords))\n",
        "vaccine.head(5)"
      ],
      "execution_count": 18,
      "outputs": [
        {
          "output_type": "stream",
          "text": [
            "[nltk_data] Downloading package stopwords to /root/nltk_data...\n",
            "[nltk_data]   Unzipping corpora/stopwords.zip.\n"
          ],
          "name": "stdout"
        },
        {
          "output_type": "execute_result",
          "data": {
            "text/html": [
              "<div>\n",
              "<style scoped>\n",
              "    .dataframe tbody tr th:only-of-type {\n",
              "        vertical-align: middle;\n",
              "    }\n",
              "\n",
              "    .dataframe tbody tr th {\n",
              "        vertical-align: top;\n",
              "    }\n",
              "\n",
              "    .dataframe thead th {\n",
              "        text-align: right;\n",
              "    }\n",
              "</style>\n",
              "<table border=\"1\" class=\"dataframe\">\n",
              "  <thead>\n",
              "    <tr style=\"text-align: right;\">\n",
              "      <th></th>\n",
              "      <th>title</th>\n",
              "      <th>score</th>\n",
              "      <th>body</th>\n",
              "      <th>year</th>\n",
              "      <th>month</th>\n",
              "    </tr>\n",
              "  </thead>\n",
              "  <tbody>\n",
              "    <tr>\n",
              "      <th>0</th>\n",
              "      <td>health canada approves astrazeneca covid-19 va...</td>\n",
              "      <td>7</td>\n",
              "      <td>nan</td>\n",
              "      <td>2021</td>\n",
              "      <td>2</td>\n",
              "    </tr>\n",
              "    <tr>\n",
              "      <th>1</th>\n",
              "      <td>covid-19 canada: 'vaccination passports' near ...</td>\n",
              "      <td>2</td>\n",
              "      <td>nan</td>\n",
              "      <td>2021</td>\n",
              "      <td>2</td>\n",
              "    </tr>\n",
              "    <tr>\n",
              "      <th>2</th>\n",
              "      <td>coronavirus variants could fuel canada's third...</td>\n",
              "      <td>6</td>\n",
              "      <td>nan</td>\n",
              "      <td>2021</td>\n",
              "      <td>2</td>\n",
              "    </tr>\n",
              "    <tr>\n",
              "      <th>3</th>\n",
              "      <td>canadian government extend covid-19 emergency ...</td>\n",
              "      <td>1</td>\n",
              "      <td>nan</td>\n",
              "      <td>2021</td>\n",
              "      <td>2</td>\n",
              "    </tr>\n",
              "    <tr>\n",
              "      <th>4</th>\n",
              "      <td>canada: pfizer 'extremely committed' meeting v...</td>\n",
              "      <td>6</td>\n",
              "      <td>nan</td>\n",
              "      <td>2021</td>\n",
              "      <td>2</td>\n",
              "    </tr>\n",
              "  </tbody>\n",
              "</table>\n",
              "</div>"
            ],
            "text/plain": [
              "                                               title  score body  year  month\n",
              "0  health canada approves astrazeneca covid-19 va...      7  nan  2021      2\n",
              "1  covid-19 canada: 'vaccination passports' near ...      2  nan  2021      2\n",
              "2  coronavirus variants could fuel canada's third...      6  nan  2021      2\n",
              "3  canadian government extend covid-19 emergency ...      1  nan  2021      2\n",
              "4  canada: pfizer 'extremely committed' meeting v...      6  nan  2021      2"
            ]
          },
          "metadata": {
            "tags": []
          },
          "execution_count": 18
        }
      ]
    },
    {
      "cell_type": "code",
      "metadata": {
        "colab": {
          "base_uri": "https://localhost:8080/",
          "height": 291
        },
        "id": "XBtpWFqsXwxD",
        "outputId": "1e562d16-03bf-432e-cb7e-2f70f5192b83"
      },
      "source": [
        "#Calculating the Polarity and Subjectivity\n",
        "spaceit = spacy.load('en_core_web_sm')\n",
        "stb = SpacyTextBlob()\n",
        "spaceit.add_pipe(stb)\n",
        "vaccine['title_subjectivity'] = vaccine['title'].apply(lambda x: spaceit(x)._.sentiment.subjectivity)\n",
        "vaccine['title_polarity'] = vaccine['title'].apply(lambda x: spaceit(x)._.sentiment.polarity)\n",
        "vaccine\n",
        "\n",
        "vaccine['body_subjectivity'] = vaccine['body'].apply(lambda x: spaceit(x)._.sentiment.subjectivity)\n",
        "vaccine['body_polarity'] = vaccine['body'].apply(lambda x: spaceit(x)._.sentiment.polarity)\n",
        "vaccine.head(5)"
      ],
      "execution_count": 19,
      "outputs": [
        {
          "output_type": "stream",
          "text": [
            "/usr/local/lib/python3.7/dist-packages/spacy/util.py:275: UserWarning:\n",
            "\n",
            "[W031] Model 'en_core_web_sm' (2.2.5) requires spaCy v2.2 and is incompatible with the current spaCy version (2.3.5). This may lead to unexpected results or runtime errors. To resolve this, download a newer compatible model or retrain your custom model with the current spaCy version. For more details and available updates, run: python -m spacy validate\n",
            "\n"
          ],
          "name": "stderr"
        },
        {
          "output_type": "execute_result",
          "data": {
            "text/html": [
              "<div>\n",
              "<style scoped>\n",
              "    .dataframe tbody tr th:only-of-type {\n",
              "        vertical-align: middle;\n",
              "    }\n",
              "\n",
              "    .dataframe tbody tr th {\n",
              "        vertical-align: top;\n",
              "    }\n",
              "\n",
              "    .dataframe thead th {\n",
              "        text-align: right;\n",
              "    }\n",
              "</style>\n",
              "<table border=\"1\" class=\"dataframe\">\n",
              "  <thead>\n",
              "    <tr style=\"text-align: right;\">\n",
              "      <th></th>\n",
              "      <th>title</th>\n",
              "      <th>score</th>\n",
              "      <th>body</th>\n",
              "      <th>year</th>\n",
              "      <th>month</th>\n",
              "      <th>title_subjectivity</th>\n",
              "      <th>title_polarity</th>\n",
              "      <th>body_subjectivity</th>\n",
              "      <th>body_polarity</th>\n",
              "    </tr>\n",
              "  </thead>\n",
              "  <tbody>\n",
              "    <tr>\n",
              "      <th>0</th>\n",
              "      <td>health canada approves astrazeneca covid-19 va...</td>\n",
              "      <td>7</td>\n",
              "      <td>nan</td>\n",
              "      <td>2021</td>\n",
              "      <td>2</td>\n",
              "      <td>0.0</td>\n",
              "      <td>0.000</td>\n",
              "      <td>0.0</td>\n",
              "      <td>0.0</td>\n",
              "    </tr>\n",
              "    <tr>\n",
              "      <th>1</th>\n",
              "      <td>covid-19 canada: 'vaccination passports' near ...</td>\n",
              "      <td>2</td>\n",
              "      <td>nan</td>\n",
              "      <td>2021</td>\n",
              "      <td>2</td>\n",
              "      <td>0.4</td>\n",
              "      <td>0.100</td>\n",
              "      <td>0.0</td>\n",
              "      <td>0.0</td>\n",
              "    </tr>\n",
              "    <tr>\n",
              "      <th>2</th>\n",
              "      <td>coronavirus variants could fuel canada's third...</td>\n",
              "      <td>6</td>\n",
              "      <td>nan</td>\n",
              "      <td>2021</td>\n",
              "      <td>2</td>\n",
              "      <td>0.0</td>\n",
              "      <td>0.000</td>\n",
              "      <td>0.0</td>\n",
              "      <td>0.0</td>\n",
              "    </tr>\n",
              "    <tr>\n",
              "      <th>3</th>\n",
              "      <td>canadian government extend covid-19 emergency ...</td>\n",
              "      <td>1</td>\n",
              "      <td>nan</td>\n",
              "      <td>2021</td>\n",
              "      <td>2</td>\n",
              "      <td>0.0</td>\n",
              "      <td>0.000</td>\n",
              "      <td>0.0</td>\n",
              "      <td>0.0</td>\n",
              "    </tr>\n",
              "    <tr>\n",
              "      <th>4</th>\n",
              "      <td>canada: pfizer 'extremely committed' meeting v...</td>\n",
              "      <td>6</td>\n",
              "      <td>nan</td>\n",
              "      <td>2021</td>\n",
              "      <td>2</td>\n",
              "      <td>1.0</td>\n",
              "      <td>-0.125</td>\n",
              "      <td>0.0</td>\n",
              "      <td>0.0</td>\n",
              "    </tr>\n",
              "  </tbody>\n",
              "</table>\n",
              "</div>"
            ],
            "text/plain": [
              "                                               title  ...  body_polarity\n",
              "0  health canada approves astrazeneca covid-19 va...  ...            0.0\n",
              "1  covid-19 canada: 'vaccination passports' near ...  ...            0.0\n",
              "2  coronavirus variants could fuel canada's third...  ...            0.0\n",
              "3  canadian government extend covid-19 emergency ...  ...            0.0\n",
              "4  canada: pfizer 'extremely committed' meeting v...  ...            0.0\n",
              "\n",
              "[5 rows x 9 columns]"
            ]
          },
          "metadata": {
            "tags": []
          },
          "execution_count": 19
        }
      ]
    },
    {
      "cell_type": "code",
      "metadata": {
        "colab": {
          "base_uri": "https://localhost:8080/",
          "height": 351
        },
        "id": "nOoiC-hKkO7j",
        "outputId": "ec902140-8ed2-4480-bb00-01a1f0d8f7d1"
      },
      "source": [
        "bp=pd.DataFrame()\n",
        "bp['positive']=vaccine['body_polarity'].apply(lambda x : x if(x > 0) else None)\n",
        "bp['negative']=vaccine['body_polarity'].apply(lambda x:  x if(x<=-0.05) else None)\n",
        "bp['neutral']=vaccine['body_polarity'].apply(lambda x: x if(x>-0.05 and x<=.05) else None)\n",
        "bp\n",
        "\n",
        "fig = plt.figure()\n",
        "fig.set_figheight(5)\n",
        "fig.set_figwidth(10)\n",
        "\n",
        "ax = fig.add_subplot(111)\n",
        "\n",
        "\n",
        "counts = [len((bp['positive']).value_counts()),len(bp['neutral'].value_counts()),len((bp['negative']).value_counts())]\n",
        "\n",
        "percents = [100*x/sum(counts) for x in counts]\n",
        "\n",
        "y_ax = ('Positive','Neutral','Negative')\n",
        "y_tick = np.arange(len(y_ax))\n",
        "\n",
        "ax.barh(range(len(counts)), counts, align = \"center\", color = ['Red', 'yellow', 'cyan'])\n",
        "ax.set_yticks(y_tick)\n",
        "ax.set_yticklabels(y_ax, size = 15)\n",
        "ax.set_facecolor('xkcd:white')\n",
        "plt.xlabel('Polarity Of column body ', size=15)\n",
        "\n",
        "\n",
        "\n",
        "for i, y in enumerate(ax.patches):\n",
        "    label_per = percents[i]\n",
        "    ax.text(y.get_width()+.09, y.get_y()+.3, str(round((y.get_width()), 1)), fontsize=15)\n",
        "    \n",
        "    ax.text(y.get_width()+.09, y.get_y()+.1, str(f'{round((label_per), 2)}%'), fontsize=15)\n",
        "\n",
        "sns.despine()\n",
        "plt.show();"
      ],
      "execution_count": 66,
      "outputs": [
        {
          "output_type": "display_data",
          "data": {
            "image/png": "[encoded data removed]",
            "text/plain": [
              "<Figure size 720x360 with 1 Axes>"
            ]
          },
          "metadata": {
            "tags": [],
            "needs_background": "light"
          }
        }
      ]
    },
    {
      "cell_type": "code",
      "metadata": {
        "colab": {
          "base_uri": "https://localhost:8080/",
          "height": 542
        },
        "id": "fwEXSa-CkO-K",
        "outputId": "760c246c-d0c2-4fcc-8504-a20a7cc428ad"
      },
      "source": [
        "vaccine['Body_Sentiment_Value']=vaccine['body_polarity'].apply(lambda x : 'Neutral' if(x>-0.05 and x<=.05) else ('Negative' if(x<=-0.05) else 'Positive'))\n",
        "\n",
        "\n",
        "fig = px.scatter(vaccine, x=\"body_polarity\", y=\"body_subjectivity\", color=\"Body_Sentiment_Value\",)\n",
        "fig.update_layout(legend = dict(bgcolor = 'pink'))\n",
        "fig.update_layout({\n",
        "'plot_bgcolor': 'rgba(0, 0, 0, 0)',\n",
        "'paper_bgcolor': 'rgba(0, 0, 0, 0)',\n",
        "})\n",
        "fig.show()"
      ],
      "execution_count": 67,
      "outputs": [
        {
          "output_type": "display_data",
          "data": {
            "text/html": [
              "<html>\n",
              "<head><meta charset=\"utf-8\" /></head>\n",
              "<body>\n",
              "    <div>\n",
              "            <script src=\"https://cdnjs.cloudflare.com/ajax/libs/mathjax/2.7.5/MathJax.js?config=TeX-AMS-MML_SVG\"></script><script type=\"text/javascript\">if (window.MathJax) {MathJax.Hub.Config({SVG: {font: \"STIX-Web\"}});}</script>\n",
              "                <script type=\"text/javascript\">window.PlotlyConfig = {MathJaxConfig: 'local'};</script>\n",
              "        <script src=\"https://cdn.plot.ly/plotly-latest.min.js\"></script>    \n",
              "            <div id=\"a73cfb68-894c-4e72-b05f-967704d2645a\" class=\"plotly-graph-div\" style=\"height:525px; width:100%;\"></div>\n",
              "            <script type=\"text/javascript\">\n",
              "                \n",
              "                    window.PLOTLYENV=window.PLOTLYENV || {};\n",
              "                    \n",
              "                if (document.getElementById(\"a73cfb68-894c-4e72-b05f-967704d2645a\")) {\n",
              "                    Plotly.newPlot(\n",
              "                        'a73cfb68-894c-4e72-b05f-967704d2645a',\n",
              "                        [{\"hoverlabel\": {\"namelength\": 0}, \"hovertemplate\": \"Body_Sentiment_Value=Neutral<br>body_polarity=%{x}<br>body_subjectivity=%{y}\", \"legendgroup\": \"Body_Sentiment_Value=Neutral\", \"marker\": {\"color\": \"#636efa\", \"symbol\": \"circle\"}, \"mode\": \"markers\", \"name\": \"Body_Sentiment_Value=Neutral\", \"showlegend\": true, \"type\": \"scattergl\", \"x\": [0.0, 0.0, 0.0, 0.0, 0.0, 0.0, 0.0, 0.0, -0.03571428571428571, -0.033333333333333326, 0.0, 0.0, 0.0, 0.0, 0.0, 0.0, 0.0, 0.0, -0.02500000000000005, 0.0, -0.02500000000000005, 0.0, 0.0, 0.0, 0.0, 0.0036518661518661465, 0.0, 0.0, 0.0, 0.0, 0.04062499999999999, 0.0, 0.011904761904761899, 0.0, 0.0039001122334455765, -0.015151515151515152, 0.0, 0.02556277056277057, 0.0, 0.0, 0.0, 0.0, 0.0, 0.0, 0.0, 0.0, 0.0, 0.0, 0.0, 0.05, 0.0, 0.0009615384615384483, 0.0, 0.0, 0.0, 0.0, 0.0, 0.0, 0.0, 0.0, 0.0, 0.0, 0.0, 0.0, 0.0, 0.0, 0.0, 0.0, 0.0, 0.0, 0.0, 0.0, 0.0, 0.0, 0.0, 0.0, 0.0, 0.0, 0.016121212121212126, 0.0, 0.0, 0.0, 0.0, 0.05, 0.0, 0.0, 0.0, 0.0, 0.0, 0.0, 0.0, 0.0, 0.0, 0.0, 0.0, 0.0, 0.0, 0.0, 0.0, 0.0, -0.04561011904761905, 0.0, 0.028787878787878782, 0.0, 0.0, -0.022227198089267056, 0.0, -0.014393939393939391, -0.010227272727272713, 0.0, 0.0, 0.0, 0.048214285714285716, 0.0, 0.028333333333333335, 0.03571428571428571, 0.03333333333333333, 0.020833333333333332, 0.0, 0.0, 0.0, 0.0, 0.0, 0.0, 0.0, 0.0, 0.0, 0.0, 0.0, 0.0, 0.0, 0.0, 0.0, 0.0, 0.0, 0.0, 0.048888888888888885, 0.0, 0.0, 0.0, 0.0, 0.0, 0.0, 0.0, 0.0, 0.0, 0.0, 0.0, 0.0, 0.0, 0.0, 0.0, 0.0, 0.0, 0.0, 0.0, 0.0, 0.0, 0.0, 0.0, 0.0, 0.0, 0.0, 0.0, 0.0, 0.0, 0.0, 0.0, 0.0, 0.0, 0.0, 0.0, 0.0, 0.0, 0.0, 0.0, 0.0, 0.0, 0.0, 0.0, 0.0, 0.0, 0.0, 0.0, 0.0, 0.0, 0.0, 0.0, 0.0, 0.0, 0.0, 0.0, 0.0, 0.0, 0.0, 0.0, 0.0, 0.0, 0.0, 0.0, 0.0, 0.0, 0.0, 0.0, 0.0, 0.0, 0.0, 0.0, 0.0, 0.0, 0.0, 0.0, 0.0, 0.0, 0.0, 0.0, 0.0, 0.0, 0.0, 0.0, 0.0, 0.0, 0.0, 0.0, 0.0, 0.0, 0.0, 0.0, 0.0, 0.0, 0.0, 0.0, 0.0, 0.0, 0.0, 0.0, 0.0, 0.0, 0.0, 0.0, 0.0, 0.0, 0.0, 0.0, 0.0, 0.0, 0.0, 0.0, 0.0, 0.0, 0.0, 0.0, 0.0, 0.0, 0.0, 0.0, 0.0, 0.0, 0.0, 0.0, 0.0, 0.0, 0.0, 0.0, 0.0, 0.0, 0.0, 0.0, 0.0, 0.0, 0.0, 0.0, 0.0, 0.0, 0.0, 0.0, 0.0, 0.0, 0.0, 0.0, 0.0, 0.0, 0.0, 0.0, 0.0, 0.0, 0.0, 0.0, 0.0, 0.0, 0.0, 0.0, 0.0, 0.0, 0.0, 0.0, 0.0, 0.0, 0.0, 0.0, 0.0, 0.0, 0.0, 0.0, 0.0, 0.0, 0.0, 0.0, 0.0, 0.0, 0.0, 0.0, 0.0, 0.0, 0.0, 0.0, 0.0, 0.0, 0.0, 0.0, 0.0, 0.0, 0.0, 0.0, 0.0, 0.0, 0.0, 0.0, 0.0, 0.0, 0.0, 0.0, 0.0, 0.0, 0.0, 0.0, 0.0, 0.0, 0.0, 0.0, 0.0, 0.0, 0.0, 0.0, 0.0, 0.0, 0.0, 0.0, 0.0, 0.0, 0.0, 0.0, 0.0, 0.0, 0.0, 0.0, 0.0, 0.0, 0.0, -0.014285714285714284, 0.0, 0.0, 0.0, 0.0, 0.0, 0.0, 0.0, 0.0, 0.0, 0.0, 0.0, 0.0, 0.0, 0.0, 0.0, 0.0, 0.0, 0.0, 0.0, 0.0, 0.0, 0.0, 0.0, 0.0, 0.0, 0.0, 0.0, 0.0, 0.0, 0.0, 0.0, 0.0, 0.0, 0.0, 0.0, 0.0, 0.0, 0.0, 0.0, 0.0, 0.0, 0.0, 0.0, 0.0, 0.0, 0.0, 0.0, 0.0, 0.0, 0.0, 0.0, 0.0, 0.0, 0.0, 0.0, 0.0, 0.0, 0.0, 0.0, 0.0, 0.0, 0.0, 0.0, 0.0, 0.0, 0.0, 0.0, 0.0, 0.0, 0.0, 0.0, 0.0, 0.0, 0.012499999999999992, 0.0, 0.0, 0.04429590017825312, -0.03571428571428571, -0.03333333333333333, 0.0, -0.009999999999999986, 0.0, -0.0007936507936507964, 0.05, -0.02857142857142859, 0.02410714285714285, 0.03333333333333333, 0.0, -0.02500000000000005, 0.0, 0.0, 0.0, 0.0, 0.0, 0.0, 0.0, 0.0, 0.0, 0.0, 0.004325396825396819, 0.0, 0.0, 0.0, 0.0, 0.0, 0.0, 0.0, 0.0, 0.0, 0.0, 0.0, -0.03541666666666668, 0.0, 0.0, 0.05, 0.014285714285714297, -0.041666666666666664, 0.0, 0.0, 0.0, 0.0, 0.0, 0.029166666666666667, 0.03333333333333333, 0.0, 0.0, 0.0, 0.0, 0.0, 0.0, 0.0, 0.0, 0.0, 0.02083333333333333, 0.024393939393939388, 0.0, 0.024999999999999994, 0.0, 0.0, 0.0, 0.0, 0.0, 0.0, 0.0, 0.04791666666666666, 0.0, -0.03888888888888889, 0.0, 0.0, 0.0, 0.0, 0.0, 0.0011363636363636324, 0.03333333333333333, 0.0, 0.0, 0.0, -0.037500000000000006, 0.0, -0.01851851851851851, 0.0, 0.0, 0.0, 0.0, 0.0, 0.0, 0.000761904761904767, 0.0, 0.0, 0.0, 0.0, 0.0, 0.0, 0.0, 0.0, -0.03333333333333336, 0.0, -0.017592592592592597, 0.0, 0.0, 0.04436813186813186, 0.025912698412698415, 0.0, 0.0, -0.0225, 0.0, 0.0, 0.0, 0.0, 0.0, 0.0, 0.03641222722855375, 0.0, 0.0125, 0.0, 0.0, 0.05, 0.05, 0.0, -0.024959415584415584, 0.0, 0.0, 0.0, 0.0, 0.0, 0.0, 0.0, 0.0, 0.0, 0.0, 0.0, 0.0, 0.0, -0.016666666666666656, 0.04166666666666666, 0.0, 0.038095238095238106, 0.041666666666666664, 0.0, 0.0, 0.0, 0.0, 0.0, 0.0, 0.0, 0.0, 0.0, 0.0, 0.0, 0.0, 0.0, 0.0, -0.037500000000000006, 0.0, 0.0, 0.0, 0.0, 0.0, 0.0, 0.0, 0.0, 0.0, 0.0, 0.0, 0.0, 0.0, 0.0, 0.0, 0.0, 0.0, 0.0, 0.0, -0.04999999999999999, 0.0, 0.0, 0.0, 0.0, 0.05, 0.0, -0.02499999999999998, -0.016666666666666677, 0.0, 0.0, 0.0, 0.0, 0.034375000000000024, 0.0, 0.0, 0.0, 0.0, 0.0, 0.0, 0.0, 0.0, 0.04575517075517077, 0.0, 0.0, 0.005540797586252134, 0.0, -0.020544733044733036, 0.0, 0.0, -0.03749999999999999, 0.0, 0.021428571428571446, 0.0, 0.04305555555555556, 0.04, 0.0, 0.022112029384756662, 0.0, 0.0, 0.0, 0.0, 0.0, 0.0, 0.0, 0.0, 0.0, 0.0, 0.0, 0.0, 0.0033333333333333327, 0.0, 0.0, 0.0, 0.0, -0.041666666666666664, 0.0, 0.0, 0.0, 0.0, 0.0, 0.0, 0.0, 0.0, 0.0, 0.0, 0.019439935064935066, -0.037500000000000006, -0.03392857142857141, -0.016666666666666653, 0.0, 0.0, 0.0, 0.0, 0.0, 0.023571428571428577, 0.0, 0.03541666666666667, 0.024999999999999984, -0.04866071428571426, 0.011111111111111112, 0.0, 0.05, 0.0, 0.0, 0.0, 0.0, 0.0, 0.0, 0.0, 0.0, 0.0, 0.0, 0.0, 0.0, -1.982541115402065e-18, 0.0, 0.0, 0.0, 0.03888888888888889, -0.0004999999999999894, 0.0, -0.04454545454545455, 0.0, 0.0, 0.0, 0.0, 0.0, 2.2204460492503132e-17, 0.0, -0.04903846153846155, 0.0448830409356725, 0.04444444444444443, 0.0, 0.05, 0.024999999999999994, 0.0, 0.0, 0.0, 0.0, 0.0, 0.0, 0.04126984126984127, 0.0, 0.0, 0.0, 0.0, 0.0, 0.0, 0.0, -0.025, 0.0, 0.0, 0.0, 0.0, 0.0, -0.003896103896103858, 0.0, 0.0, 0.0, 0.0, 0.0, 0.0, 0.0, 0.0, 0.0, 0.0, 0.0, 0.0, 0.0, 0.0, 0.0, 0.0, 0.0, 0.048511904761904756, 0.0, 0.0, 0.0, 0.0, 0.0, 0.0, 0.0, 0.0, 0.0, 0.0, -0.04011363636363637, -0.03749999999999998, -0.02640977443609023, 0.012499999999999997, 0.014285714285714282, 0.010770038042765311, -0.014285714285714277, 0.024999999999999998, -0.04642857142857143, 0.03125000000000001, 0.0, -0.04123376623376623, 0.0, 0.0, 0.0, -0.020833333333333343, 0.0, 0.0, 0.0, 0.001666666666666666, 0.0, 0.0, 0.0, 0.0, 0.0, 0.014999999999999996, 0.0, 0.0, 0.0, 0.0, 0.0, 0.0, 0.0, 0.0, 0.0, 0.0, 0.0, 0.01512618155876583, 0.0, 0.0, 0.0, 0.0, 3.700743415417188e-17, 0.0], \"xaxis\": \"x\", \"y\": [0.0, 0.0, 0.0, 0.0, 0.0, 0.0, 0.0, 0.0, 0.10714285714285714, 0.47500000000000003, 0.0, 0.0, 0.0, 0.0, 0.0, 0.0, 0.0, 0.0, 0.625, 0.0, 0.625, 0.0, 0.1, 0.0, 0.0, 0.43455598455598465, 0.0, 0.0, 0.0, 0.03333333333333333, 0.528125, 0.0, 0.3119047619047619, 0.0, 0.45229677729677725, 0.3939393939393939, 0.0, 0.48160173160173164, 0.0, 0.0, 0.0, 0.0, 0.0, 0.1, 0.6, 0.0, 0.0, 0.0, 0.1, 0.25666666666666665, 0.0, 0.3326923076923076, 0.0, 0.0, 0.0, 0.0, 0.3333333333333333, 0.0, 0.0, 0.0, 0.0, 0.0, 0.0, 0.0, 0.0, 0.0, 0.0, 0.0, 0.0, 0.0, 0.0, 0.0, 0.0, 0.0, 0.0, 0.0, 0.0, 0.0, 0.5311818181818183, 0.0, 0.0, 0.0, 0.0, 0.35, 0.0, 0.0, 0.0, 0.0, 0.0, 0.0, 0.0, 0.0, 0.0, 0.0, 0.0, 0.0, 0.0, 0.0, 0.0, 0.0, 0.6089285714285715, 0.0, 0.4666666666666666, 0.0, 0.0, 0.522495894909688, 0.0, 0.46969696969696967, 0.456439393939394, 0.0, 0.0, 0.0, 0.6849489795918366, 0.0, 0.4238095238095238, 0.42103174603174603, 0.2333333333333333, 0.5772435897435898, 0.0, 0.0, 0.0, 0.0, 0.0, 0.0, 0.0, 0.0, 0.0, 0.0, 0.0, 0.0, 0.0, 0.0, 0.0, 0.0, 0.0, 0.0, 0.36777777777777776, 0.0, 0.0, 0.0, 0.0, 0.0, 0.0, 0.0, 0.0, 0.0, 0.0, 0.0, 0.0, 0.0, 0.0, 0.0, 0.0, 0.0, 0.0, 0.0, 0.0, 0.0, 0.0, 0.0, 0.0, 0.0, 0.0, 0.0, 0.0, 0.0, 0.0, 0.0, 0.0, 0.0, 0.0, 0.0, 0.0, 0.0, 0.0, 0.0, 0.0, 0.0, 0.0, 0.0, 0.0, 0.0, 0.0, 0.0, 0.0, 0.0, 0.0, 0.0, 0.0, 0.0, 0.0, 0.0, 0.0, 0.0, 0.0, 0.0, 0.0, 0.0, 0.0, 0.0, 0.0, 0.0, 0.0, 0.0, 0.0, 0.0, 0.0, 0.0, 0.0, 0.0, 0.0, 0.0, 0.0, 0.0, 0.0, 0.0, 0.0, 0.0, 0.0, 0.0, 0.0, 0.0, 0.0, 0.0, 0.0, 0.0, 0.0, 0.0, 0.0, 0.0, 0.0, 0.0, 0.0, 0.0, 0.0, 0.0, 0.0, 0.0, 0.0, 0.0, 0.0, 0.0, 0.0, 0.0, 0.0, 0.0, 0.0, 0.0, 0.0, 0.0, 0.0, 0.0, 0.0, 0.0, 0.0, 0.0, 0.0, 0.0, 0.0, 0.0, 0.0, 0.0, 0.0, 0.0, 0.0, 0.0, 0.0, 0.0, 0.0, 0.0, 0.0, 0.0, 0.0, 0.0, 0.0, 0.0, 0.0, 0.0, 0.0, 0.0, 0.0, 0.0, 0.0, 0.0, 0.0, 0.0, 0.0, 0.0, 0.0, 0.0, 0.0, 0.0, 0.0, 0.0, 0.0, 0.0, 0.0, 0.0, 0.0, 0.0, 0.0, 0.0, 0.0, 0.0, 0.0, 0.0, 0.0, 0.0, 0.0, 0.0, 0.0, 0.0, 0.0, 0.0, 0.0, 0.0, 0.0, 0.0, 0.0, 0.0, 0.0, 0.0, 0.0, 0.0, 0.0, 0.0, 0.0, 0.0, 0.0, 0.0, 0.0, 0.0, 0.0, 0.0, 0.0, 0.0, 0.0, 0.0, 0.0, 0.0, 0.0, 0.0, 0.0, 0.0, 0.0, 0.0, 0.0, 0.0, 0.0, 0.0, 0.0, 0.0, 0.0, 0.0, 0.0, 0.0, 0.0, 0.0, 0.0, 0.4419642857142857, 0.0, 0.0, 0.0, 0.0, 0.0, 0.0, 0.0, 0.0, 0.0, 0.0, 0.0, 0.0, 0.0, 0.0, 0.0, 0.0, 0.0, 0.0, 0.0, 0.0, 0.0, 0.0, 0.0, 0.0, 0.0, 0.0, 0.0, 0.0, 0.0, 0.0, 0.0, 0.0, 0.0, 0.0, 0.0, 0.0, 0.0, 0.0, 0.0, 0.0, 0.0, 0.0, 0.0, 0.0, 0.0, 0.0, 0.0, 0.0, 0.0, 0.0, 0.0, 0.0, 0.0, 0.0, 0.0, 0.0, 0.0, 0.0, 0.0, 0.0, 0.0, 0.0, 0.0, 0.0, 0.0, 0.0, 0.0, 0.0, 0.0, 0.0, 0.0, 0.0, 0.0, 0.44583333333333336, 0.0, 0.0, 0.33801247771836007, 0.38571428571428573, 0.20833333333333334, 0.0, 0.51, 0.0, 0.5197619047619048, 0.5333333333333333, 0.4571428571428571, 0.4544642857142857, 0.13333333333333333, 0.16666666666666666, 0.625, 0.0, 0.0, 0.0, 0.0, 0.0, 0.0, 0.0, 0.0, 0.0, 0.0, 0.4185317460317461, 0.3, 0.0, 0.0, 0.125, 0.0, 0.0, 0.0, 0.0, 0.0, 0.0, 0.0, 0.3895833333333333, 0.0, 0.0, 0.15000000000000002, 0.2988095238095238, 0.5, 0.0, 0.0, 0.0, 0.0, 1.0, 0.175, 0.10000000000000002, 0.0, 0.0, 0.0, 0.0, 0.0, 0.0, 0.0, 0.0, 0.0, 0.5416666666666667, 0.5574242424242425, 0.0, 0.16666666666666666, 0.0, 0.0, 0.0, 0.3, 0.0, 0.0, 0.46666666666666673, 0.6145833333333334, 0.3, 0.4055555555555556, 0.0, 0.0, 0.0, 0.55, 0.45, 0.40454545454545454, 0.06666666666666667, 0.0, 0.0, 0.0, 0.35, 0.0, 0.2601851851851852, 0.0, 0.0, 0.21666666666666667, 0.0, 0.0, 0.0, 0.4460952380952381, 0.0, 0.0, 0.0, 0.0, 0.0, 0.0, 0.0, 0.1, 0.5, 0.0, 0.44166666666666665, 0.0, 0.0, 0.39964896214896206, 0.3635218253968253, 0.0, 0.0, 0.7975, 0.1, 0.0, 0.0, 0.9, 0.0, 0.0, 0.4536200194363459, 0.0, 0.21666666666666667, 0.0, 0.0, 0.2, 0.25, 0.0, 0.50683170995671, 0.0, 0.0, 0.0, 0.0, 0.0, 0.0, 0.0, 0.0, 0.0, 0.0, 0.0, 0.0, 0.0, 0.6625, 0.375, 0.0, 0.3357142857142857, 0.3055555555555555, 0.0, 0.0, 0.0, 0.1, 0.0, 0.6666666666666666, 0.0, 0.0, 0.0, 0.0, 0.5, 0.4, 0.0, 0.5166666666666667, 0.575, 0.0, 0.0, 0.0, 0.1, 0.0, 0.5, 0.0, 0.0, 0.0, 0.0, 0.5, 0.0, 0.0, 0.0, 0.0, 0.0, 0.0, 0.0, 0.0, 0.65, 0.0, 0.0, 0.0, 0.0, 0.45, 0.0, 0.5333333333333333, 0.38958333333333334, 0.0, 0.0, 0.0, 0.0, 0.5270833333333333, 0.0, 0.0, 0.0, 0.0, 0.0, 0.0, 0.0, 0.5416666666666666, 0.5337301587301587, 0.0, 0.0, 0.631306572215663, 0.0, 0.47155092592592585, 0.0, 0.0, 0.4375, 0.0, 0.5023809523809524, 0.6, 0.33472222222222214, 0.21666666666666665, 0.0, 0.45542087542087545, 0.0, 0.0, 0.0, 0.5, 0.0, 0.5666666666666667, 0.0, 0.5, 0.0, 0.0, 0.0, 0.0, 0.25666666666666665, 0.0, 0.0, 0.0, 0.0, 0.30833333333333335, 0.0, 0.1, 0.0, 0.0, 0.0, 0.0, 0.0, 0.0, 0.0, 0.0, 0.46259740259740256, 0.5, 0.5101190476190476, 0.3444444444444445, 0.0, 0.0, 0.6, 0.5, 0.23958333333333331, 0.4764285714285713, 0.3, 0.44236111111111115, 0.6583333333333333, 0.5699404761904762, 0.5222222222222223, 0.0, 0.35, 0.0, 0.0, 0.0, 0.0, 0.0, 0.0, 0.0, 0.0, 0.0, 0.125, 0.0, 0.0, 0.3464285714285715, 0.0, 0.7, 0.65, 0.5416666666666666, 0.43550000000000005, 0.0, 0.7581818181818182, 0.0, 0.0, 0.0, 0.0, 0.0, 0.6766666666666667, 0.6333333333333333, 0.6461538461538462, 0.5577485380116959, 0.4222222222222223, 0.0, 0.18333333333333332, 0.4, 0.0, 0.0, 0.0, 0.0, 0.0, 0.0, 0.3658730158730159, 0.0, 0.0, 0.0, 0.0, 0.0, 0.0, 0.0, 0.125, 0.0, 0.0, 0.0, 0.0, 0.0, 0.613095238095238, 0.0, 0.0, 0.0, 0.0, 0.0, 0.0, 0.0, 0.0, 0.0, 0.0, 0.0, 0.0, 0.0, 0.0, 0.0, 0.0, 0.0, 0.31934523809523807, 0.0, 0.0, 0.0, 0.0, 0.3, 0.0, 0.1, 0.0, 0.0, 0.0, 0.625, 0.3577380952380952, 0.5056390977443609, 0.4041666666666667, 0.5261904761904762, 0.411940836940837, 0.6065476190476191, 0.25476190476190474, 0.2767857142857143, 0.28750000000000003, 0.0, 0.48154761904761906, 0.51875, 0.0, 0.0, 0.7708333333333333, 0.3666666666666667, 0.0, 0.0, 0.4566666666666666, 0.1, 0.0, 0.0, 0.0, 0.0, 0.25, 0.0, 0.0, 0.0, 0.0, 0.0, 0.0, 0.0, 0.0, 0.0, 0.275, 0.0, 0.4716136079900127, 0.4, 0.0, 0.0, 0.125, 0.5222222222222223, 0.0], \"yaxis\": \"y\"}, {\"hoverlabel\": {\"namelength\": 0}, \"hovertemplate\": \"Body_Sentiment_Value=Negative<br>body_polarity=%{x}<br>body_subjectivity=%{y}\", \"legendgroup\": \"Body_Sentiment_Value=Negative\", \"marker\": {\"color\": \"#EF553B\", \"symbol\": \"circle\"}, \"mode\": \"markers\", \"name\": \"Body_Sentiment_Value=Negative\", \"showlegend\": true, \"type\": \"scattergl\", \"x\": [-0.25, -0.08806818181818182, -0.3125, -0.4, -0.21428571428571427, -0.25, -0.1950757575757576, -0.08333333333333334, -0.275, -0.3, -0.3, -0.065625, -0.3166666666666666, -0.2625, -0.5, -0.5, -0.1375, -0.125, -0.1875, -0.2222222222222222, -0.3125, -0.15833333333333333, -0.2, -0.08333333333333333, -0.05, -0.05, -0.0625, -0.3, -0.08333333333333334, -0.11944444444444442, -0.16071428571428573, -0.061363636363636356, -0.16666666666666666, -0.13333333333333328, -0.16, -0.23444444444444443, -0.6103515625, -0.1130952380952381, -0.8, -0.1948051948051948, -0.3261904761904762, -0.06352040816326529, -0.22118055555555552, -0.15, -0.15, -0.275, -0.12678571428571428, -0.09722222222222222, -0.07142857142857142, -0.4, -0.05, -0.7999999999999999, -0.3866666666666666, -0.05000000000000001, -0.14375000000000002, -0.25, -0.14629629629629629, -0.4000000000000001, -0.05, -0.30000000000000004, -0.3, -0.125, -0.625, -0.8, -0.8749999999999998, -0.2638888888888889, -0.0992063492063492, -0.06666666666666665, -0.45, -0.08333333333333333, -0.10624999999999998, -0.43333333333333335, -0.9999999999999999, -0.3277777777777778, -0.0625, -0.49659863945578225, -0.075, -0.44999999999999996, -0.6, -0.4000000000000001, -0.25, -0.16666666666666666, -0.5, -0.19375000000000003, -0.375, -0.07500000000000002, -0.5, -0.5, -0.08148809523809523, -0.1292929292929293, -0.5, -0.1, -0.2, -0.15555555555555556, -0.30000000000000004, -0.1, -0.10000000000000003, -0.29999999999999993, -0.3, -0.25, -0.25, -0.16666666666666666, -0.15625, -0.1, -0.12222222222222218, -0.15892857142857145, -0.4, -0.7999999999999999, -0.2, -0.16785714285714287, -0.15918367346938775, -0.375, -0.2, -0.2346938775510204, -0.07499999999999997, -0.5, -0.15000000000000002, -0.5333333333333333, -0.19999999999999998, -0.16, -0.375, -0.5, -0.5, -0.10000000000000002, -0.09242424242424242, -0.5, -0.19166666666666668, -0.06479166666666666, -0.8, -0.8, -0.8, -0.09285714285714286, -0.12500000000000003, -0.6999999999999998, -0.3125, -0.26666666666666666, -0.14583333333333334, -0.4, -0.16666666666666666, -0.16666666666666666, -0.10416666666666667, -0.125, -0.05000000000000001, -0.175, -0.5, -0.1888888888888889, -0.2266666666666667, -0.3083333333333333, -0.25879329004329005, -0.6, -0.15833333333333333, -0.15714285714285714, -0.75, -0.24583333333333335, -0.3833333333333333, -0.1972222222222222, -0.09999999999999998, -0.06666666666666667, -0.2, -0.10499999999999998, -0.3125, -1.0, -0.6, -0.49419642857142854, -0.28750000000000003, -0.13265515222482435, -0.275, -0.07857142857142858, -0.21809523809523806, -0.0869047619047619, -0.09015151515151518, -0.25, -0.5, -0.5, -0.5, -0.4166666666666667, -0.225, -0.2, -0.2, -0.6999999999999998, -0.07142857142857142, -0.25, -0.2456521739130435, -0.4045454545454545, -0.19999999999999998, -0.16, -0.25, -0.5999999999999999, -0.3499999999999999, -0.19999999999999996, -0.19999999999999998, -0.36666666666666664, -0.11666666666666663, -0.06944444444444445, -0.29814814814814816, -0.5, -0.5, -0.08, -0.09999999999999999, -0.08564814814814814, -0.05833333333333332, -0.1464285714285714, -0.08571428571428573, -0.5, -0.48333333333333334, -0.05000000000000001, -0.05625, -0.1, -0.5, -0.09999999999999999, -0.17499999999999996, -0.45000000000000007, -0.15416666666666665, -0.4, -0.275, -0.05, -0.5, -0.21333333333333332, -0.10833333333333335, -0.33809523809523806, -0.15, -0.16666666666666666, -0.10416666666666667, -0.5, -0.22499999999999998, -0.1902005012531328, -0.5, -0.19166666666666662, -0.27499999999999997, -0.2, -0.2, -0.4000000000000001, -0.125, -0.3, -0.6999999999999998, -0.15000000000000002, -0.4000000000000001, -0.4, -0.75, -0.0625, -0.3, -0.75, -0.5, -0.375, -0.21666666666666667, -0.3125, -0.2, -0.6999999999999998, -0.14999999999999994, -0.175, -0.15000000000000002, -0.10625, -0.22291666666666665, -0.45, -0.2916666666666667, -0.05555555555555555, -0.5, -0.125, -0.12936507936507938, -0.05, -0.1, -0.38333333333333325, -0.29999999999999993, -0.08333333333333333, -1.0], \"xaxis\": \"x\", \"y\": [0.5, 0.5710227272727273, 0.6875, 0.6, 0.35714285714285715, 1.0, 0.5321969696969696, 0.5836257309941522, 0.775, 0.4, 0.4, 0.43437499999999996, 0.35555555555555557, 0.5125, 0.9, 1.0, 0.3958333333333333, 0.4, 0.3, 0.4444444444444444, 0.6875, 0.2333333333333333, 0.6, 0.13333333333333333, 0.2, 0.05, 0.1875, 0.4666666666666666, 0.4833333333333333, 0.4666666666666666, 0.29642857142857143, 0.3904545454545455, 0.5, 0.43333333333333335, 0.6333333333333333, 0.4766666666666666, 0.4, 0.6369047619047619, 1.0, 0.5107142857142857, 0.6642857142857143, 0.3936224489795918, 0.6311507936507937, 0.675, 0.675, 0.6, 0.5586309523809524, 0.5574074074074074, 0.21428571428571427, 0.55, 0.2, 1.0, 0.6266666666666666, 0.5055555555555555, 0.4428571428571429, 0.15000000000000002, 0.5703703703703704, 0.6, 0.15, 0.2, 0.3, 0.6666666666666666, 1.0, 0.8, 0.6666666666666666, 0.5138888888888888, 0.4523809523809524, 0.43333333333333335, 0.85, 0.5, 0.5354166666666667, 0.5888888888888889, 1.0, 0.5944444444444444, 0.4, 0.6795918367346939, 0.2375, 0.625, 0.95, 0.6, 0.38125, 0.25, 1.0, 0.4625, 0.5, 0.6000000000000001, 1.0, 1.0, 0.49589285714285714, 0.5592592592592592, 1.0, 0.6125, 0.35, 0.16388888888888886, 0.6166666666666667, 1.0, 0.9, 0.6, 0.7314814814814815, 0.5, 0.55, 0.5916666666666667, 0.34375, 0.4, 0.7222222222222222, 0.5410714285714285, 0.6, 1.0, 0.7, 0.5714285714285714, 0.5057823129251701, 0.5, 0.0, 0.5076530612244898, 0.4166666666666667, 1.0, 0.75, 0.8333333333333334, 0.2888888888888889, 0.6333333333333333, 0.625, 0.9, 1.0, 0.4166666666666667, 0.21363636363636365, 0.9, 0.35000000000000003, 0.5175, 0.9, 0.8, 0.8, 0.5914285714285714, 0.46666666666666673, 0.6666666666666666, 0.6875, 0.6083333333333333, 0.5333333333333333, 0.65, 0.25, 0.25, 0.46249999999999997, 0.8333333333333334, 0.7333333333333334, 1.0, 0.6666666666666666, 0.4752136752136752, 0.29333333333333333, 0.6833333333333335, 0.5753246753246753, 0.9, 0.9666666666666667, 0.7178571428571429, 1.0, 0.7833333333333333, 0.6666666666666666, 0.6611111111111111, 0.615079365079365, 0.31333333333333335, 0.8, 0.6, 0.6875, 1.0, 0.95, 0.7611607142857143, 0.5982142857142857, 0.6756928181108507, 0.6249999999999999, 0.24761904761904763, 0.6769047619047618, 0.3378571428571428, 0.4, 0.6666666666666666, 1.0, 0.5, 0.8, 0.85, 0.4, 0.05, 0.05, 0.6666666666666666, 0.21428571428571427, 0.45, 0.6463768115942029, 0.6272727272727273, 0.5238095238095238, 0.6000000000000001, 0.3, 0.6333333333333333, 0.3333333333333333, 0.7185185185185184, 0.42962962962962964, 0.625, 0.6444444444444445, 0.6311111111111113, 0.6787037037037037, 0.9, 0.9, 0.505, 0.6333333333333333, 0.5664462081128748, 0.5305555555555556, 0.5571428571428572, 0.6010204081632653, 1.0, 0.48333333333333334, 0.24444444444444446, 0.6156250000000001, 0.27142857142857146, 0.55, 0.3333333333333333, 0.6222222222222222, 0.8166666666666667, 0.5708333333333334, 0.4, 0.525, 0.4, 0.8, 0.9444444444444444, 0.7428571428571429, 0.7523809523809524, 0.3, 0.16666666666666666, 0.3625, 0.9, 0.75, 0.5854803675856307, 1.0, 0.75, 0.44166666666666665, 0.0, 0.4, 0.6, 0.5375, 0.4, 0.6666666666666666, 0.8, 0.6, 0.6, 0.8, 0.3875, 0.475, 1.0, 0.9, 0.5, 0.3333333333333333, 0.6875, 0.6125, 0.6666666666666666, 0.4359126984126984, 0.55, 0.44999999999999996, 0.54375, 0.64375, 0.775, 0.5416666666666666, 0.5694444444444444, 1.0, 0.4, 0.7226190476190476, 0.0, 0.1, 0.6333333333333333, 0.4666666666666667, 0.3572916666666667, 1.0], \"yaxis\": \"y\"}, {\"hoverlabel\": {\"namelength\": 0}, \"hovertemplate\": \"Body_Sentiment_Value=Positive<br>body_polarity=%{x}<br>body_subjectivity=%{y}\", \"legendgroup\": \"Body_Sentiment_Value=Positive\", \"marker\": {\"color\": \"#00cc96\", \"symbol\": \"circle\"}, \"mode\": \"markers\", \"name\": \"Body_Sentiment_Value=Positive\", \"showlegend\": true, \"type\": \"scattergl\", \"x\": [0.25, 0.13636363636363635, 0.1590909090909091, 0.18166666666666667, 0.1, 0.13333333333333333, 0.3, 0.3666666666666667, 0.25, 0.8, 0.09333333333333332, 0.11439393939393937, 0.55, 0.1142857142857143, 0.15833333333333333, 0.0975, 0.11309523809523811, 0.3, 0.12480158730158734, 0.35, 0.11000700280112045, 0.16562500000000002, 0.16249999999999998, 0.1619047619047619, 0.25, 0.1, 0.1688682745825603, 0.1257070707070707, 0.2090909090909091, 0.3333333333333333, 0.25, 0.19166666666666665, 0.15625, 0.3, 0.11527777777777777, 0.35, 0.21666666666666667, 0.05625000000000001, 0.16666666666666666, 0.3125, 0.1877777777777778, 0.0736111111111111, 0.10303681950233674, 0.12000000000000002, 0.08194444444444444, 0.25, 0.13333333333333333, 0.2, 0.15000000000000002, 0.1340909090909091, 0.12844611528822056, 0.4375, 0.07190867003367003, 0.34398148148148144, 0.44999999999999996, 0.17500000000000002, 0.05333333333333332, 0.08333333333333331, 0.10384615384615384, 0.14444444444444443, 0.5, 0.6083333333333334, 0.2, 0.2, 0.22285714285714286, 0.17142857142857143, 0.12352941176470589, 0.125, 0.13636363636363635, 0.1877551020408163, 0.08756105006105006, 0.10000000000000002, 0.325, 0.8, 0.5, 0.8, 0.5, 0.14285714285714285, 0.1642857142857143, 0.5, 0.5, 0.15, 0.21666666666666665, 0.4000000000000001, 0.17142857142857146, 0.3333333333333333, 0.2, 0.32222222222222224, 0.22604166666666667, 0.4166666666666667, 0.5, 0.1388888888888889, 0.4222222222222222, 0.2, 0.2375, 0.13333333333333333, 0.09285714285714285, 0.4, 0.21727272727272728, 1.0, 0.1, 0.16999999999999998, 0.17666666666666667, 0.23000000000000004, 0.09, 0.37500000000000006, 0.2, 0.45, 0.17857142857142858, 0.3125, 0.39999999999999997, 0.4, 0.6, 0.25, 0.2, 0.35, 0.12222222222222222, 0.2, 0.09583333333333333, 0.37777777777777777, 0.39999999999999997, 0.5, 0.5, 0.2, 0.225, 0.35, 0.5, 0.2, 0.16666666666666666, 0.5, 0.20510204081632652, 0.7, 0.25, 0.17666666666666667, 0.09791666666666667, 0.8, 0.2, 0.07738095238095238, 0.22499999999999998, 0.7, 0.10666666666666666, 0.5, 0.45833333333333337, 0.1, 0.05000000000000002, 0.21525974025974026, 0.1612121212121212, 0.06036075036075033, 0.5, 0.2, 0.2, 0.2, 0.10104166666666665, 0.5, 0.05000000000000002, 0.48828125, 0.08055555555555552, 0.5, 0.125, 0.125, 0.27045454545454545, 0.5, 0.12666666666666665, 0.5, 0.8, 0.16666666666666666, 0.265, 0.171875, 0.10440476190476189, 0.10750000000000001, 0.25, 0.3, 0.4, 0.515625, 0.10624999999999998, 0.2, 0.3333333333333333, 0.054756576756576775, 0.4, 0.31464285714285717, 0.2787878787878788, 0.3666666666666667, 0.11000000000000001, 0.09523809523809525, 0.8, 0.054040404040404055, 0.1125, 0.1165674603174603, 0.2857142857142857, 0.10476190476190476, 0.4, 0.25, 0.1411111111111111, 0.1, 0.05000000000000001, 0.09305555555555557, 0.6, 0.29, 0.07738095238095236, 0.08125, 0.85, 0.25227272727272726, 0.2857142857142857, 0.125, 0.4666666666666667, 0.09166666666666666, 0.20918367346938777, 0.10000000000000002, 0.1, 0.25, 0.08866666666666667, 0.1, 0.228125, 0.55, 0.325, 0.16283891547049437, 0.6, 0.5, 0.36363636363636365, 0.0625, 0.1, 0.05208333333333334, 0.10833333333333334, 0.125, 0.5, 0.05589225589225591, 0.35, 0.5, 0.0625, 0.2, 0.5, 0.25, 0.21122448979591837, 0.8, 0.3, 0.8, 0.27031249999999996, 0.11891620284477426, 0.05000000000000001, 0.2, 0.19999999999999998, 0.5, 0.6, 0.08285714285714285, 0.09722222222222222, 0.25, 0.2781954887218045, 0.35, 0.18392857142857139, 0.4, 0.2125283446712018, 0.5, 0.26666666666666666, 0.5625, 0.11111111111111112, 0.3125, 0.125, 0.3, 0.25, 0.5, 0.125, 0.4166666666666667, 0.6333333333333334, 0.16, 0.13636363636363635, 0.4041666666666666, 0.1708333333333333, 0.08373809523809522, 0.3166666666666667, 0.08125, 0.13470496894409936, 0.06909132007233273, 0.06650641025641027, 0.27999999999999997, 0.2, 0.5, 0.3, 0.07146825396825399, 0.3, 0.6, 0.15, 0.17991181657848326, 0.1, 0.5, 0.5, 0.18928571428571428, 0.08333333333333333, 0.08248663101604278, 0.40625, 0.14285714285714285, 0.12, 0.5, 1.0, 0.26785714285714285, 0.20208333333333334, 0.11916666666666664, 0.2857142857142857, 0.375, 0.19999999999999996, 0.8, 0.35, 0.5, 0.5, 0.2857142857142857, 1.0, 1.0, 0.7, 0.15714285714285717, 0.35000000000000003, 0.061666666666666696, 1.0, 0.05714285714285714, 0.21333333333333332, 0.1229166666666667, 0.2, 0.3, 0.09166666666666667, 0.2043859649122807, 0.1355442176870748, 0.09479166666666668, 0.11887254901960782, 0.14444444444444446, 0.21428571428571427, 0.2, 0.4, 0.08761197136197135, 0.15000000000000002, 0.35, 0.5, 0.09526942355889724, 0.5, 1.0, 0.25, 0.2857142857142857, 0.10706521739130434, 0.1, 0.18333333333333332, 0.6, 0.21212121212121213, 0.13999999999999999, 0.3333333333333333, 0.0875, 0.34761904761904755, 0.35, 0.2, 0.8, 0.875, 0.19047619047619047, 0.06833333333333334, 0.2, 0.7, 0.2, 0.2, 0.5666666666666667, 0.1, 0.3, 0.07625, 0.29107142857142854, 0.25054945054945055, 0.2, 0.14907407407407408, 0.2041666666666667, 0.4669642857142857, 0.3611111111111111, 0.22727272727272727, 0.5, 0.5, 0.2, 0.2, 0.225, 0.05641025641025642, 0.15476641414141415, 0.25, 0.25, 0.35, 0.2, 0.06696969696969697, 0.11688311688311688, 0.20476190476190476, 0.22499999999999998, 0.1, 0.3, 0.8, 0.1636734693877551, 1.0, 0.8, 0.35, 0.15208333333333335, 0.8, 0.2, 0.35, 0.35, 0.4125, 0.0875, 0.2, 0.1392857142857143, 0.05357142857142856, 0.11666666666666667, 0.20000000000000004, 0.2409090909090909, 0.09999999999999998, 0.3333333333333333, 0.10000000000000002, 0.1, 0.22402597402597405, 0.475, 0.19166666666666665, 0.26666666666666666, 0.11904761904761907, 0.0625, 0.24761904761904763, 0.05505952380952382, 0.1275132275132275, 0.2857142857142857, 0.25285714285714284, 0.4583333333333333, 0.55, 0.2, 0.375, 0.32499999999999996, 0.2857142857142857, 0.25, 0.5, 0.1, 0.25757575757575757, 0.2, 1.0, 0.6, 0.375, 0.5166666666666667, 0.05333333333333332, 0.06333333333333332, 0.09166666666666667, 0.1, 0.375, 0.12714285714285714, 0.4666666666666667, 0.375, 1.0, 0.06818181818181818, 0.3214285714285714, 0.20857142857142857, 0.09999999999999998, 0.4, 0.09], \"xaxis\": \"x\", \"y\": [0.75, 0.5, 0.84375, 0.6683333333333333, 0.55, 0.7000000000000001, 0.6785714285714286, 0.6296296296296297, 0.4, 0.7, 0.4333333333333333, 0.481060606060606, 0.75, 0.37142857142857144, 0.413888888888889, 0.4125, 0.30357142857142855, 0.6666666666666666, 0.47980804724990767, 0.5, 0.45749999999999996, 0.2989583333333333, 0.29756944444444444, 0.24523809523809526, 0.3125, 0.2, 0.31860853432282, 0.3935858585858586, 0.33125, 0.5333333333333333, 0.2, 0.3125, 0.6458333333333333, 0.72, 0.5444444444444444, 0.65, 0.39999999999999997, 0.6125, 0.8333333333333334, 0.3333333333333333, 0.48305555555555557, 0.38055555555555554, 0.38918087659466966, 0.3733333333333333, 0.29460470085470086, 0.43333333333333335, 0.16666666666666666, 0.2, 0.425, 0.525, 0.7161654135338346, 0.65, 0.3929903198653199, 0.5259259259259258, 0.4, 0.6499999999999999, 0.37666666666666665, 0.4088888888888889, 0.4153846153846154, 0.24444444444444444, 0.5, 0.6, 0.5833333333333333, 0.2, 0.5664285714285715, 0.37142857142857144, 0.4352941176470587, 1.0, 0.45454545454545453, 0.42568027210884357, 0.4699023199023198, 0.5, 0.5166666666666666, 0.7, 0.5, 0.7, 0.8888888888888888, 0.44563492063492066, 0.35714285714285715, 1.0, 0.8888888888888888, 0.26666666666666666, 0.5080246913580246, 0.9, 0.4428571428571428, 0.19999999999999998, 0.3125, 0.6333333333333334, 0.44479166666666664, 0.5, 0.5, 0.3666666666666667, 0.4888888888888889, 0.2, 0.925, 0.7833333333333333, 0.5678571428571428, 0.4, 0.6809090909090909, 0.9, 0.475, 0.4477777777777778, 0.5658730158730159, 0.7138888888888889, 0.45999999999999996, 0.5583333333333333, 0.4, 0.5625, 0.4321428571428571, 0.25, 0.5333333333333333, 0.8, 0.9, 0.5, 0.2, 0.8944444444444444, 0.3666666666666667, 0.2, 0.5391666666666668, 0.3666666666666667, 0.8777777777777779, 0.5, 0.5, 0.2, 0.6333333333333334, 0.45, 0.5, 0.2, 0.9629629629629629, 0.5, 0.29081632653061223, 0.6000000000000001, 0.8500000000000001, 0.58, 0.5293981481481481, 0.7, 0.2, 0.32408424908424915, 0.525, 0.9, 0.2733333333333333, 1.0, 0.5, 0.4, 0.7, 0.4357142857142857, 0.4533333333333333, 0.5223809523809523, 0.5, 0.2, 0.2, 0.2, 0.32023809523809527, 0.6, 0.5, 0.5, 0.4222222222222222, 0.5, 0.375, 0.625, 0.4348484848484849, 0.625, 0.38000000000000006, 0.5, 1.0, 0.21904761904761907, 0.47000000000000003, 0.5, 0.6173809523809524, 0.4919444444444444, 0.7296296296296295, 0.35, 0.5, 0.47500000000000003, 0.4821428571428572, 0.2, 0.3666666666666667, 0.48813275613275603, 0.9, 0.5913095238095238, 0.39999999999999997, 0.43333333333333335, 0.3466666666666667, 0.44523809523809527, 0.9, 0.3888888888888889, 0.38645833333333335, 0.5993882275132275, 0.5357142857142857, 0.40416666666666673, 0.5, 0.3, 0.5700000000000001, 0.4, 0.38571428571428573, 0.5578703703703703, 0.55, 0.38000000000000006, 0.35357142857142854, 0.328125, 0.45000000000000007, 0.825, 0.5357142857142857, 1.0, 0.7, 0.5583333333333333, 0.39693877551020407, 0.39999999999999997, 0.2, 0.45, 0.438, 0.4, 0.4979166666666666, 0.2, 0.31250000000000006, 0.5040214171793118, 0.9, 0.5, 0.5227272727272727, 0.225, 1.0, 0.59375, 0.39166666666666666, 0.3333333333333333, 0.5, 0.42828282828282827, 0.65, 0.5, 0.2583333333333333, 0.2, 0.5, 0.3333333333333333, 0.3870748299319728, 0.7, 0.45, 1.0, 0.5171874999999999, 0.615950319521748, 0.19166666666666665, 0.2, 0.5, 0.5, 0.8944444444444444, 0.7242857142857142, 0.5070987654320988, 0.40625, 0.586967418546366, 0.35000000000000003, 0.45446428571428565, 0.37222222222222223, 0.4950680272108844, 0.5, 0.5814814814814815, 0.7, 0.5925925925925926, 0.2875, 0.175, 0.4, 0.25, 0.5, 0.4583333333333333, 0.5, 0.7999999999999999, 0.5399999999999999, 0.5, 0.7564814814814816, 0.4166666666666667, 0.40630952380952384, 0.4333333333333333, 0.39999999999999997, 0.4560300207039338, 0.4530681133212778, 0.3676282051282052, 0.54, 0.65, 0.5, 0.1, 0.5379761904761905, 0.58, 0.8, 0.3, 0.4555503549947994, 0.4, 0.5, 0.8888888888888888, 0.6464285714285715, 0.6833333333333333, 0.523752228163993, 0.7722222222222223, 0.7678571428571428, 0.34833333333333333, 0.8888888888888888, 1.0, 0.5178571428571428, 0.44791666666666663, 0.5658333333333333, 0.5357142857142857, 0.9444444444444444, 0.5375000000000001, 0.7, 0.65, 0.5, 1.0, 0.5357142857142857, 1.0, 0.3, 0.6000000000000001, 0.42142857142857143, 0.375, 0.39055555555555554, 0.3, 0.4833333333333334, 0.58, 0.5805555555555555, 0.9, 0.575, 0.30833333333333335, 0.4394736842105263, 0.43477891156462584, 0.5270833333333335, 0.3735294117647059, 0.3396825396825397, 0.5714285714285714, 0.2, 0.425, 0.5932967032967034, 0.30000000000000004, 0.5, 0.5, 0.3870300751879699, 0.5, 0.9, 0.1, 0.5357142857142857, 0.5663043478260871, 0.4, 0.6666666666666666, 0.55, 0.3666666666666667, 0.16499999999999998, 0.375, 0.6125, 0.6392857142857142, 0.6000000000000001, 0.2, 0.75, 0.6000000000000001, 0.45238095238095233, 0.465, 0.2, 0.6000000000000001, 0.3, 0.3, 0.6333333333333333, 0.5, 0.55, 0.58, 0.5696428571428571, 0.4236263736263736, 0.30000000000000004, 0.3731481481481482, 0.5268518518518519, 0.4732142857142857, 0.5333333333333333, 0.5237373737373738, 0.5, 0.5, 0.30000000000000004, 0.2, 0.65, 0.4647435897435897, 0.5472222222222222, 0.5, 0.25, 0.6, 0.30000000000000004, 0.5479545454545455, 0.32770562770562767, 0.6857142857142857, 0.42500000000000004, 0.4, 0.2, 0.7, 0.2679591836734693, 0.3, 0.7, 0.65, 0.5104166666666667, 0.7, 0.2, 0.36250000000000004, 0.35, 0.6375000000000001, 0.4222222222222222, 0.2, 0.5964285714285715, 0.5092857142857143, 0.5145833333333334, 0.16666666666666666, 0.6399350649350649, 0.36666666666666664, 0.3333333333333333, 0.3833333333333333, 0.39166666666666666, 0.5574675324675323, 0.8, 0.7333333333333334, 0.32222222222222224, 0.33452380952380956, 0.375, 0.2726190476190476, 0.4210289115646258, 0.48597883597883595, 0.5357142857142857, 0.6552380952380952, 0.8203703703703704, 0.75, 0.2, 0.5909722222222222, 0.4, 0.5357142857142857, 0.2, 0.475, 0.3, 0.5, 0.6, 1.0, 0.9, 0.5, 0.5666666666666667, 0.3716666666666667, 0.2733333333333333, 0.2916666666666667, 0.1, 0.375, 0.31214285714285717, 0.9166666666666667, 0.75, 1.0, 0.75, 0.5704365079365079, 0.45714285714285713, 0.43333333333333335, 0.4, 0.33499999999999996], \"yaxis\": \"y\"}],\n",
              "                        {\"legend\": {\"bgcolor\": \"pink\", \"tracegroupgap\": 0}, \"margin\": {\"t\": 60}, \"paper_bgcolor\": \"rgba(0, 0, 0, 0)\", \"plot_bgcolor\": \"rgba(0, 0, 0, 0)\", \"template\": {\"data\": {\"bar\": [{\"error_x\": {\"color\": \"#2a3f5f\"}, \"error_y\": {\"color\": \"#2a3f5f\"}, \"marker\": {\"line\": {\"color\": \"#E5ECF6\", \"width\": 0.5}}, \"type\": \"bar\"}], \"barpolar\": [{\"marker\": {\"line\": {\"color\": \"#E5ECF6\", \"width\": 0.5}}, \"type\": \"barpolar\"}], \"carpet\": [{\"aaxis\": {\"endlinecolor\": \"#2a3f5f\", \"gridcolor\": \"white\", \"linecolor\": \"white\", \"minorgridcolor\": \"white\", \"startlinecolor\": \"#2a3f5f\"}, \"baxis\": {\"endlinecolor\": \"#2a3f5f\", \"gridcolor\": \"white\", \"linecolor\": \"white\", \"minorgridcolor\": \"white\", \"startlinecolor\": \"#2a3f5f\"}, \"type\": \"carpet\"}], \"choropleth\": [{\"colorbar\": {\"outlinewidth\": 0, \"ticks\": \"\"}, \"type\": \"choropleth\"}], \"contour\": [{\"colorbar\": {\"outlinewidth\": 0, \"ticks\": \"\"}, \"colorscale\": [[0.0, \"#0d0887\"], [0.1111111111111111, \"#46039f\"], [0.2222222222222222, \"#7201a8\"], [0.3333333333333333, \"#9c179e\"], [0.4444444444444444, \"#bd3786\"], [0.5555555555555556, \"#d8576b\"], [0.6666666666666666, \"#ed7953\"], [0.7777777777777778, \"#fb9f3a\"], [0.8888888888888888, \"#fdca26\"], [1.0, \"#f0f921\"]], \"type\": \"contour\"}], \"contourcarpet\": [{\"colorbar\": {\"outlinewidth\": 0, \"ticks\": \"\"}, \"type\": \"contourcarpet\"}], \"heatmap\": [{\"colorbar\": {\"outlinewidth\": 0, \"ticks\": \"\"}, \"colorscale\": [[0.0, \"#0d0887\"], [0.1111111111111111, \"#46039f\"], [0.2222222222222222, \"#7201a8\"], [0.3333333333333333, \"#9c179e\"], [0.4444444444444444, \"#bd3786\"], [0.5555555555555556, \"#d8576b\"], [0.6666666666666666, \"#ed7953\"], [0.7777777777777778, \"#fb9f3a\"], [0.8888888888888888, \"#fdca26\"], [1.0, \"#f0f921\"]], \"type\": \"heatmap\"}], \"heatmapgl\": [{\"colorbar\": {\"outlinewidth\": 0, \"ticks\": \"\"}, \"colorscale\": [[0.0, \"#0d0887\"], [0.1111111111111111, \"#46039f\"], [0.2222222222222222, \"#7201a8\"], [0.3333333333333333, \"#9c179e\"], [0.4444444444444444, \"#bd3786\"], [0.5555555555555556, \"#d8576b\"], [0.6666666666666666, \"#ed7953\"], [0.7777777777777778, \"#fb9f3a\"], [0.8888888888888888, \"#fdca26\"], [1.0, \"#f0f921\"]], \"type\": \"heatmapgl\"}], \"histogram\": [{\"marker\": {\"colorbar\": {\"outlinewidth\": 0, \"ticks\": \"\"}}, \"type\": \"histogram\"}], \"histogram2d\": [{\"colorbar\": {\"outlinewidth\": 0, \"ticks\": \"\"}, \"colorscale\": [[0.0, \"#0d0887\"], [0.1111111111111111, \"#46039f\"], [0.2222222222222222, \"#7201a8\"], [0.3333333333333333, \"#9c179e\"], [0.4444444444444444, \"#bd3786\"], [0.5555555555555556, \"#d8576b\"], [0.6666666666666666, \"#ed7953\"], [0.7777777777777778, \"#fb9f3a\"], [0.8888888888888888, \"#fdca26\"], [1.0, \"#f0f921\"]], \"type\": \"histogram2d\"}], \"histogram2dcontour\": [{\"colorbar\": {\"outlinewidth\": 0, \"ticks\": \"\"}, \"colorscale\": [[0.0, \"#0d0887\"], [0.1111111111111111, \"#46039f\"], [0.2222222222222222, \"#7201a8\"], [0.3333333333333333, \"#9c179e\"], [0.4444444444444444, \"#bd3786\"], [0.5555555555555556, \"#d8576b\"], [0.6666666666666666, \"#ed7953\"], [0.7777777777777778, \"#fb9f3a\"], [0.8888888888888888, \"#fdca26\"], [1.0, \"#f0f921\"]], \"type\": \"histogram2dcontour\"}], \"mesh3d\": [{\"colorbar\": {\"outlinewidth\": 0, \"ticks\": \"\"}, \"type\": \"mesh3d\"}], \"parcoords\": [{\"line\": {\"colorbar\": {\"outlinewidth\": 0, \"ticks\": \"\"}}, \"type\": \"parcoords\"}], \"pie\": [{\"automargin\": true, \"type\": \"pie\"}], \"scatter\": [{\"marker\": {\"colorbar\": {\"outlinewidth\": 0, \"ticks\": \"\"}}, \"type\": \"scatter\"}], \"scatter3d\": [{\"line\": {\"colorbar\": {\"outlinewidth\": 0, \"ticks\": \"\"}}, \"marker\": {\"colorbar\": {\"outlinewidth\": 0, \"ticks\": \"\"}}, \"type\": \"scatter3d\"}], \"scattercarpet\": [{\"marker\": {\"colorbar\": {\"outlinewidth\": 0, \"ticks\": \"\"}}, \"type\": \"scattercarpet\"}], \"scattergeo\": [{\"marker\": {\"colorbar\": {\"outlinewidth\": 0, \"ticks\": \"\"}}, \"type\": \"scattergeo\"}], \"scattergl\": [{\"marker\": {\"colorbar\": {\"outlinewidth\": 0, \"ticks\": \"\"}}, \"type\": \"scattergl\"}], \"scattermapbox\": [{\"marker\": {\"colorbar\": {\"outlinewidth\": 0, \"ticks\": \"\"}}, \"type\": \"scattermapbox\"}], \"scatterpolar\": [{\"marker\": {\"colorbar\": {\"outlinewidth\": 0, \"ticks\": \"\"}}, \"type\": \"scatterpolar\"}], \"scatterpolargl\": [{\"marker\": {\"colorbar\": {\"outlinewidth\": 0, \"ticks\": \"\"}}, \"type\": \"scatterpolargl\"}], \"scatterternary\": [{\"marker\": {\"colorbar\": {\"outlinewidth\": 0, \"ticks\": \"\"}}, \"type\": \"scatterternary\"}], \"surface\": [{\"colorbar\": {\"outlinewidth\": 0, \"ticks\": \"\"}, \"colorscale\": [[0.0, \"#0d0887\"], [0.1111111111111111, \"#46039f\"], [0.2222222222222222, \"#7201a8\"], [0.3333333333333333, \"#9c179e\"], [0.4444444444444444, \"#bd3786\"], [0.5555555555555556, \"#d8576b\"], [0.6666666666666666, \"#ed7953\"], [0.7777777777777778, \"#fb9f3a\"], [0.8888888888888888, \"#fdca26\"], [1.0, \"#f0f921\"]], \"type\": \"surface\"}], \"table\": [{\"cells\": {\"fill\": {\"color\": \"#EBF0F8\"}, \"line\": {\"color\": \"white\"}}, \"header\": {\"fill\": {\"color\": \"#C8D4E3\"}, \"line\": {\"color\": \"white\"}}, \"type\": \"table\"}]}, \"layout\": {\"annotationdefaults\": {\"arrowcolor\": \"#2a3f5f\", \"arrowhead\": 0, \"arrowwidth\": 1}, \"coloraxis\": {\"colorbar\": {\"outlinewidth\": 0, \"ticks\": \"\"}}, \"colorscale\": {\"diverging\": [[0, \"#8e0152\"], [0.1, \"#c51b7d\"], [0.2, \"#de77ae\"], [0.3, \"#f1b6da\"], [0.4, \"#fde0ef\"], [0.5, \"#f7f7f7\"], [0.6, \"#e6f5d0\"], [0.7, \"#b8e186\"], [0.8, \"#7fbc41\"], [0.9, \"#4d9221\"], [1, \"#276419\"]], \"sequential\": [[0.0, \"#0d0887\"], [0.1111111111111111, \"#46039f\"], [0.2222222222222222, \"#7201a8\"], [0.3333333333333333, \"#9c179e\"], [0.4444444444444444, \"#bd3786\"], [0.5555555555555556, \"#d8576b\"], [0.6666666666666666, \"#ed7953\"], [0.7777777777777778, \"#fb9f3a\"], [0.8888888888888888, \"#fdca26\"], [1.0, \"#f0f921\"]], \"sequentialminus\": [[0.0, \"#0d0887\"], [0.1111111111111111, \"#46039f\"], [0.2222222222222222, \"#7201a8\"], [0.3333333333333333, \"#9c179e\"], [0.4444444444444444, \"#bd3786\"], [0.5555555555555556, \"#d8576b\"], [0.6666666666666666, \"#ed7953\"], [0.7777777777777778, \"#fb9f3a\"], [0.8888888888888888, \"#fdca26\"], [1.0, \"#f0f921\"]]}, \"colorway\": [\"#636efa\", \"#EF553B\", \"#00cc96\", \"#ab63fa\", \"#FFA15A\", \"#19d3f3\", \"#FF6692\", \"#B6E880\", \"#FF97FF\", \"#FECB52\"], \"font\": {\"color\": \"#2a3f5f\"}, \"geo\": {\"bgcolor\": \"white\", \"lakecolor\": \"white\", \"landcolor\": \"#E5ECF6\", \"showlakes\": true, \"showland\": true, \"subunitcolor\": \"white\"}, \"hoverlabel\": {\"align\": \"left\"}, \"hovermode\": \"closest\", \"mapbox\": {\"style\": \"light\"}, \"paper_bgcolor\": \"white\", \"plot_bgcolor\": \"#E5ECF6\", \"polar\": {\"angularaxis\": {\"gridcolor\": \"white\", \"linecolor\": \"white\", \"ticks\": \"\"}, \"bgcolor\": \"#E5ECF6\", \"radialaxis\": {\"gridcolor\": \"white\", \"linecolor\": \"white\", \"ticks\": \"\"}}, \"scene\": {\"xaxis\": {\"backgroundcolor\": \"#E5ECF6\", \"gridcolor\": \"white\", \"gridwidth\": 2, \"linecolor\": \"white\", \"showbackground\": true, \"ticks\": \"\", \"zerolinecolor\": \"white\"}, \"yaxis\": {\"backgroundcolor\": \"#E5ECF6\", \"gridcolor\": \"white\", \"gridwidth\": 2, \"linecolor\": \"white\", \"showbackground\": true, \"ticks\": \"\", \"zerolinecolor\": \"white\"}, \"zaxis\": {\"backgroundcolor\": \"#E5ECF6\", \"gridcolor\": \"white\", \"gridwidth\": 2, \"linecolor\": \"white\", \"showbackground\": true, \"ticks\": \"\", \"zerolinecolor\": \"white\"}}, \"shapedefaults\": {\"line\": {\"color\": \"#2a3f5f\"}}, \"ternary\": {\"aaxis\": {\"gridcolor\": \"white\", \"linecolor\": \"white\", \"ticks\": \"\"}, \"baxis\": {\"gridcolor\": \"white\", \"linecolor\": \"white\", \"ticks\": \"\"}, \"bgcolor\": \"#E5ECF6\", \"caxis\": {\"gridcolor\": \"white\", \"linecolor\": \"white\", \"ticks\": \"\"}}, \"title\": {\"x\": 0.05}, \"xaxis\": {\"automargin\": true, \"gridcolor\": \"white\", \"linecolor\": \"white\", \"ticks\": \"\", \"title\": {\"standoff\": 15}, \"zerolinecolor\": \"white\", \"zerolinewidth\": 2}, \"yaxis\": {\"automargin\": true, \"gridcolor\": \"white\", \"linecolor\": \"white\", \"ticks\": \"\", \"title\": {\"standoff\": 15}, \"zerolinecolor\": \"white\", \"zerolinewidth\": 2}}}, \"xaxis\": {\"anchor\": \"y\", \"domain\": [0.0, 1.0], \"title\": {\"text\": \"body_polarity\"}}, \"yaxis\": {\"anchor\": \"x\", \"domain\": [0.0, 1.0], \"title\": {\"text\": \"body_subjectivity\"}}},\n",
              "                        {\"responsive\": true}\n",
              "                    ).then(function(){\n",
              "                            \n",
              "var gd = document.getElementById('a73cfb68-894c-4e72-b05f-967704d2645a');\n",
              "var x = new MutationObserver(function (mutations, observer) {{\n",
              "        var display = window.getComputedStyle(gd).display;\n",
              "        if (!display || display === 'none') {{\n",
              "            console.log([gd, 'removed!']);\n",
              "            Plotly.purge(gd);\n",
              "            observer.disconnect();\n",
              "        }}\n",
              "}});\n",
              "\n",
              "// Listen for the removal of the full notebook cells\n",
              "var notebookContainer = gd.closest('#notebook-container');\n",
              "if (notebookContainer) {{\n",
              "    x.observe(notebookContainer, {childList: true});\n",
              "}}\n",
              "\n",
              "// Listen for the clearing of the current output cell\n",
              "var outputEl = gd.closest('.output');\n",
              "if (outputEl) {{\n",
              "    x.observe(outputEl, {childList: true});\n",
              "}}\n",
              "\n",
              "                        })\n",
              "                };\n",
              "                \n",
              "            </script>\n",
              "        </div>\n",
              "</body>\n",
              "</html>"
            ]
          },
          "metadata": {
            "tags": []
          }
        }
      ]
    },
    {
      "cell_type": "code",
      "metadata": {
        "colab": {
          "base_uri": "https://localhost:8080/",
          "height": 235
        },
        "id": "2Nfj-aKYkPAi",
        "outputId": "523f9e49-897f-4c9b-c952-90d341b54b21"
      },
      "source": [
        "tp=pd.DataFrame()\n",
        "tp['positive']=vaccine['title_polarity'].apply(lambda x : x if(x > 0.05) else None)\n",
        "tp['negative']=vaccine['title_polarity'].apply(lambda x:  x if(x<=-0.05) else None)\n",
        "tp['neutral']=vaccine['title_polarity'].apply(lambda x: x if(x>-0.05 and x<=.05) else None)\n",
        "tp\n",
        "\n",
        "fig = plt.figure()\n",
        "fig.set_figheight(5)\n",
        "fig.set_figwidth(10)\n",
        "\n",
        "ax = fig.add_subplot(111)\n",
        "\n",
        "counts = [len((tp['positive']).value_counts()),len(tp['neutral'].value_counts()),len((tp['negative']).value_counts())]\n",
        "\n",
        "percents = [100*x/sum(counts) for x in counts]\n",
        "\n",
        "y_ax = ('Positive','Neutral','Negative')\n",
        "y_tick = np.arange(len(y_ax))\n",
        "\n",
        "ax.barh(range(len(counts)), counts, align = \"center\", color = ['red', 'black', 'orange'])\n",
        "ax.set_yticks(y_tick)\n",
        "ax.set_yticklabels(y_ax, size = 15)\n",
        "ax.set_facecolor('xkcd:white')\n",
        "\n",
        "plt.xlabel('Polarity Of column title ', size=15)\n",
        "\n",
        "fig, axs = plt.subplots(1,1, figsize=(12,5))\n",
        "\n",
        "for i, y in enumerate(ax.patches):\n",
        "    label_per = percents[i]\n",
        "    ax.text(y.get_width()+.09, y.get_y()+.3, str(round((y.get_width()), 1)), fontsize=15)\n",
        "    \n",
        "    ax.text(y.get_width()+.09, y.get_y()+.1, str(f'{round((label_per), 2)}%'), fontsize=15)\n",
        "\n",
        "sns.despine()\n",
        "plt.show()"
      ],
      "execution_count": 1,
      "outputs": [
        {
          "output_type": "error",
          "ename": "NameError",
          "evalue": "ignored",
          "traceback": [
            "\u001b[0;31m---------------------------------------------------------------------------\u001b[0m",
            "\u001b[0;31mNameError\u001b[0m                                 Traceback (most recent call last)",
            "\u001b[0;32m<ipython-input-1-b8d3f6793b51>\u001b[0m in \u001b[0;36m<module>\u001b[0;34m()\u001b[0m\n\u001b[0;32m----> 1\u001b[0;31m \u001b[0mtp\u001b[0m\u001b[0;34m=\u001b[0m\u001b[0mpd\u001b[0m\u001b[0;34m.\u001b[0m\u001b[0mDataFrame\u001b[0m\u001b[0;34m(\u001b[0m\u001b[0;34m)\u001b[0m\u001b[0;34m\u001b[0m\u001b[0;34m\u001b[0m\u001b[0m\n\u001b[0m\u001b[1;32m      2\u001b[0m \u001b[0mtp\u001b[0m\u001b[0;34m[\u001b[0m\u001b[0;34m'positive'\u001b[0m\u001b[0;34m]\u001b[0m\u001b[0;34m=\u001b[0m\u001b[0mvaccine\u001b[0m\u001b[0;34m[\u001b[0m\u001b[0;34m'title_polarity'\u001b[0m\u001b[0;34m]\u001b[0m\u001b[0;34m.\u001b[0m\u001b[0mapply\u001b[0m\u001b[0;34m(\u001b[0m\u001b[0;32mlambda\u001b[0m \u001b[0mx\u001b[0m \u001b[0;34m:\u001b[0m \u001b[0mx\u001b[0m \u001b[0;32mif\u001b[0m\u001b[0;34m(\u001b[0m\u001b[0mx\u001b[0m \u001b[0;34m>\u001b[0m \u001b[0;36m0.05\u001b[0m\u001b[0;34m)\u001b[0m \u001b[0;32melse\u001b[0m \u001b[0;32mNone\u001b[0m\u001b[0;34m)\u001b[0m\u001b[0;34m\u001b[0m\u001b[0;34m\u001b[0m\u001b[0m\n\u001b[1;32m      3\u001b[0m \u001b[0mtp\u001b[0m\u001b[0;34m[\u001b[0m\u001b[0;34m'negative'\u001b[0m\u001b[0;34m]\u001b[0m\u001b[0;34m=\u001b[0m\u001b[0mvaccine\u001b[0m\u001b[0;34m[\u001b[0m\u001b[0;34m'title_polarity'\u001b[0m\u001b[0;34m]\u001b[0m\u001b[0;34m.\u001b[0m\u001b[0mapply\u001b[0m\u001b[0;34m(\u001b[0m\u001b[0;32mlambda\u001b[0m \u001b[0mx\u001b[0m\u001b[0;34m:\u001b[0m  \u001b[0mx\u001b[0m \u001b[0;32mif\u001b[0m\u001b[0;34m(\u001b[0m\u001b[0mx\u001b[0m\u001b[0;34m<=\u001b[0m\u001b[0;34m-\u001b[0m\u001b[0;36m0.05\u001b[0m\u001b[0;34m)\u001b[0m \u001b[0;32melse\u001b[0m \u001b[0;32mNone\u001b[0m\u001b[0;34m)\u001b[0m\u001b[0;34m\u001b[0m\u001b[0;34m\u001b[0m\u001b[0m\n\u001b[1;32m      4\u001b[0m \u001b[0mtp\u001b[0m\u001b[0;34m[\u001b[0m\u001b[0;34m'neutral'\u001b[0m\u001b[0;34m]\u001b[0m\u001b[0;34m=\u001b[0m\u001b[0mvaccine\u001b[0m\u001b[0;34m[\u001b[0m\u001b[0;34m'title_polarity'\u001b[0m\u001b[0;34m]\u001b[0m\u001b[0;34m.\u001b[0m\u001b[0mapply\u001b[0m\u001b[0;34m(\u001b[0m\u001b[0;32mlambda\u001b[0m \u001b[0mx\u001b[0m\u001b[0;34m:\u001b[0m \u001b[0mx\u001b[0m \u001b[0;32mif\u001b[0m\u001b[0;34m(\u001b[0m\u001b[0mx\u001b[0m\u001b[0;34m>\u001b[0m\u001b[0;34m-\u001b[0m\u001b[0;36m0.05\u001b[0m \u001b[0;32mand\u001b[0m \u001b[0mx\u001b[0m\u001b[0;34m<=\u001b[0m\u001b[0;36m.05\u001b[0m\u001b[0;34m)\u001b[0m \u001b[0;32melse\u001b[0m \u001b[0;32mNone\u001b[0m\u001b[0;34m)\u001b[0m\u001b[0;34m\u001b[0m\u001b[0;34m\u001b[0m\u001b[0m\n\u001b[1;32m      5\u001b[0m \u001b[0mtp\u001b[0m\u001b[0;34m\u001b[0m\u001b[0;34m\u001b[0m\u001b[0m\n",
            "\u001b[0;31mNameError\u001b[0m: name 'pd' is not defined"
          ]
        }
      ]
    },
    {
      "cell_type": "code",
      "metadata": {
        "colab": {
          "base_uri": "https://localhost:8080/",
          "height": 542
        },
        "id": "_2YCCYnvkPC-",
        "outputId": "b8ffe47d-5ed5-4da2-d6f2-4d74447b201b"
      },
      "source": [
        "vaccine['Title_Sentiment_Value']=vaccine['title_polarity'].apply(lambda x : 'Neutral' if(x>-0.05 and x<=.05) else ('Negative' if(x<=-0.05) else 'Positive'))\n",
        "\n",
        "\n",
        "fig = px.scatter(vaccine, x=\"title_polarity\", y=\"title_subjectivity\", color=\"Title_Sentiment_Value\",)\n",
        "fig.update_layout(legend = dict(bgcolor = 'yellow'))\n",
        "fig.update_layout({\n",
        "'plot_bgcolor': 'rgba(0, 0, 0, 0)',\n",
        "'paper_bgcolor': 'rgba(0, 0, 0, 0)',\n",
        "})\n",
        "fig.show()"
      ],
      "execution_count": 69,
      "outputs": [
        {
          "output_type": "display_data",
          "data": {
            "text/html": [
              "<html>\n",
              "<head><meta charset=\"utf-8\" /></head>\n",
              "<body>\n",
              "    <div>\n",
              "            <script src=\"https://cdnjs.cloudflare.com/ajax/libs/mathjax/2.7.5/MathJax.js?config=TeX-AMS-MML_SVG\"></script><script type=\"text/javascript\">if (window.MathJax) {MathJax.Hub.Config({SVG: {font: \"STIX-Web\"}});}</script>\n",
              "                <script type=\"text/javascript\">window.PlotlyConfig = {MathJaxConfig: 'local'};</script>\n",
              "        <script src=\"https://cdn.plot.ly/plotly-latest.min.js\"></script>    \n",
              "            <div id=\"ba7fb02d-69fb-4ad9-8c65-825e74a4ddfb\" class=\"plotly-graph-div\" style=\"height:525px; width:100%;\"></div>\n",
              "            <script type=\"text/javascript\">\n",
              "                \n",
              "                    window.PLOTLYENV=window.PLOTLYENV || {};\n",
              "                    \n",
              "                if (document.getElementById(\"ba7fb02d-69fb-4ad9-8c65-825e74a4ddfb\")) {\n",
              "                    Plotly.newPlot(\n",
              "                        'ba7fb02d-69fb-4ad9-8c65-825e74a4ddfb',\n",
              "                        [{\"hoverlabel\": {\"namelength\": 0}, \"hovertemplate\": \"Title_Sentiment_Value=Neutral<br>title_polarity=%{x}<br>title_subjectivity=%{y}\", \"legendgroup\": \"Title_Sentiment_Value=Neutral\", \"marker\": {\"color\": \"#636efa\", \"symbol\": \"circle\"}, \"mode\": \"markers\", \"name\": \"Title_Sentiment_Value=Neutral\", \"showlegend\": true, \"type\": \"scattergl\", \"x\": [0.0, 0.0, 0.0, 0.0, 0.0, 0.0, 0.0, 0.0, 0.0, 0.0, 0.0, 0.0, 0.0, 0.0, 0.0, 0.0, 0.0, 0.0, 0.0, 0.0, 0.0, 0.0, 0.0, 0.0, 0.0, 0.0, 0.0, 0.0, 0.0, 0.0, 0.0, 0.0, 0.0, 0.0, 0.0, 0.0, 0.0, 0.0, 0.0, 0.0, 0.0, 0.0, 0.0, 0.0, 0.0, 0.0, 0.0, 0.0, 0.0, 0.0, 0.0, 0.0, 0.0, 0.0, 0.0, 0.0, 0.0, 0.0, 0.0, 0.0, 0.0, 0.0, 0.0, 0.0, 0.0, 0.0, 0.0, 0.0, 0.0, 0.0, 0.0, 0.0, 0.0, 0.0, 0.0, 0.0, 0.0, 0.0, 0.0, 0.0, 0.0, 0.0, 0.0, 0.0, 0.0, 0.0, 0.0, 0.0, 0.0, 0.0, 0.0, 0.0, 0.0, 0.0, 0.0, 0.0, 0.0, 0.0, 0.0, 0.0, 0.0, 0.0, 0.0, 0.0, 0.0, 0.0, 0.0, 0.0, 0.0, 0.0, 0.0, 0.0, 0.0, 0.0, 0.0, 0.0, 0.0, 0.0, 0.0, 0.0, 0.0, 0.0, 0.0, 0.0, 0.0, 0.0, 0.0, 0.0, 0.0, 0.0, 0.0, 0.0, 0.0, 0.0, 0.0, 0.0, 0.0, 0.0, 0.0, 0.0, 0.0, 0.0, 0.0, 0.0, 0.0, 0.0, 0.0, 0.0, 0.0, 0.0, 0.0, 0.0, 0.0, 0.0, 0.0, 0.0, 0.0, 0.0, 0.0, 0.0, 0.0, 0.0, 0.0, 0.0, 0.0, 0.0, 0.0, 0.0, 0.0, 0.0, 0.0, 0.0, 0.0, 0.0, 0.0, 0.0, 0.0, 0.0, 0.0, 0.0, 0.0, 0.0, 0.0, 0.0, 0.0, 0.0, 0.0, 0.0, 0.0, 0.0, 0.0, 0.0, 0.0, 0.0, 0.0, 0.0, 0.0, 0.0, 0.0, 0.0, 0.0, 0.0, 0.0, 0.0, 0.0, 0.0, 0.0, 0.0, 0.0, 0.0, 0.0, 0.0, 0.0, 0.0, 0.0, 0.0, 0.0, 0.0, 0.0, 0.0, 0.0, 0.0, 0.0, 0.0, 0.0, 0.0, 0.0, 0.0, 0.0, 0.0, 0.0, 0.0, 0.0, 0.0, 0.0, 0.0, 0.04545454545454545, 0.0, 0.0, 0.0, 0.0, 0.0, 0.0, 0.0, 0.0, 0.0, 0.0, 0.0, 0.0, 0.0, 0.0, 0.0, 0.0, 0.0, 0.0, 0.0, 0.0, 0.0, 0.0, 0.0, 0.0, 0.0, 0.0, 0.0, 0.0, 0.0, 0.0, 0.0, 0.0, 0.05, 0.04999999999999999, 0.0, 0.0, 0.0, -0.03749999999999992, 0.0, 0.0, 0.0, 0.0, 0.0, 0.05, 0.0, -0.02500000000000001, 0.0, 0.0, 0.0, 0.0, 0.05, 0.0, 0.0, 0.0, 0.0, 0.0, -0.02916666666666666, 0.0, 0.009999999999999998, 0.0, 0.0, 0.0, 0.0, 0.0, 0.0, 0.0, 0.0, 0.0, 0.0, 0.0, 0.0, 0.0, 0.0, 0.0, 0.0, 0.0, 0.0, 0.0, 0.0, 0.0, 0.0, 0.0, 0.03333333333333333, -0.026666666666666658, 0.0, 0.0, 0.0, 0.0, -0.020833333333333332, 0.02727272727272727, -0.03958333333333334, -0.047619047619047616, 0.0, 0.0, 0.0, 0.0375, 0.0, 0.0, 0.0, 0.0, 0.0, 0.0, 0.0, 0.0, 0.0, 0.0, 0.0, 0.0, 0.0, 0.0, 0.0, 0.0, 0.0, 0.0, 0.0, 0.0, 0.0, 0.0, 0.0, 0.0, 0.0, 0.0, 0.0, 0.0, 0.0, 0.0, 0.0, 0.0, 0.0, 0.0, 0.0, 0.0, 0.0, 0.0, 0.0, 0.0, 0.0, 0.0, 0.0, 0.0, 0.0, 0.0, 0.0, 0.0, 0.0, 0.0, 0.0, 0.0, 0.0, 0.0, 0.0, 0.0, 0.0, 0.0, 0.0, 0.0, 0.0, 0.0, 0.0, 0.0, 0.0, 0.0, 0.0, 0.0, 0.0, 0.0, 0.0, 0.0, 0.0, 0.0, 0.0, 0.0, 0.0, 0.0, 0.0, 0.0, 0.0, 0.0, 0.0, 0.0, 0.0, 0.0, 0.0, 0.0, 0.0, 0.0, 0.0, 0.0, 0.0, 0.0, 0.0, 0.0, 0.0, 0.0, 0.0, 0.0, 0.0, 0.0, 0.0, 0.0, 0.0, 0.0, 0.0, 0.0, 0.0, 0.0, 0.0, 0.0, 0.0, 0.0, 0.0, 0.0, 0.0, 0.0, 0.0, 0.0, 0.0, 0.0, 0.0, 0.0, 0.0, 0.0, 0.0, 0.0, 0.0, 0.0, 0.0, 0.0, 0.0, 0.0, 0.0, 0.0, 0.0, 0.0, 0.0, 0.0, 0.0, 0.0, 0.0, 0.0, 0.0, 0.0, 0.0, 0.0, 0.0, 0.0, 0.0, 0.0, 0.0, 0.0, 0.0, 0.0, 0.0, 0.0, 0.0, 0.0, 0.0, 0.0, 0.0, 0.0, 0.0, 0.0, 0.0, 0.0, 0.0, 0.0, 0.0, 0.0, 0.0, 0.0, 0.0, 0.0, 0.0, 0.0, 0.0, 0.0, 0.0, 0.0, 0.0, 0.0, 0.0, 0.0, 0.0, 0.0, 0.0, 0.0, 0.0, 0.0, 0.0, 0.0, 0.0, 0.0, 0.0, 0.0, 0.0, 0.0, 0.0, 0.0, 0.0, 0.0, 0.0, 0.0, 0.0, 0.0, 0.0, 0.0, 0.0, 0.0, 0.0, 0.0, 0.0, 0.0, 0.0, 0.0, 0.0, 0.0, 0.0, 0.0, 0.0, 0.0, 0.0, 0.0, 0.0, 0.0, 0.0, 0.0, 0.0, 0.0, 0.0, 0.0, 0.0, 0.0, 0.0, 0.0, 0.0, 0.0, 0.0, 0.0, 0.0, 0.0, 0.0, 0.0, 0.0, 0.0, 0.0, 0.0, 0.0, 0.0, 0.0, 0.0, 0.0, 0.0, 0.0, 0.0, 0.0, 0.0, 0.0, 0.0, 0.0, 0.0, 0.0, 0.0, 0.0, 0.0, 0.0, 0.0, 0.0, 0.0, 0.0, 0.0, 0.0, 0.0, 0.0, 0.0, 0.0, 0.0, 0.0, 0.0, 0.0, 0.0, 0.0, 0.0, 0.0, 0.0, 0.0, 0.0, 0.0, 0.0, 0.0, 0.0, 0.0, 0.0, 0.0, 0.0, 0.0, 0.0, 0.0, 0.0, 0.0, 0.0, 0.0, 0.0, 0.0, 0.0, 0.0, 0.0, 0.0, 0.0, 0.0, 0.0, 0.0, 0.0, 0.0, 0.0, 0.0, 0.0, 0.0, 0.0, 0.0, 0.0, 0.0, 0.0, 0.0, 0.0, 0.0, 0.0, 0.0, 0.0, 0.0, 0.0, 0.0, 0.0, 0.0, 0.0, 0.0, 0.0, 0.0, 0.0, 0.0, 0.0, 0.0, 0.0, 0.0, 0.0, 0.0, 0.0, 0.0, 0.0, 0.0, 0.0, 0.0, 0.0, 0.0, 0.0, 0.0, 0.0, 0.0, 0.0, 0.0, 0.0, 0.0, 0.0, 0.0, 0.0, 0.0, 0.0, 0.0, 0.0, 0.0, 0.0, 0.0, 0.0, 0.0, 0.0, 0.0, 0.0, 0.0, 0.0, 0.0, 0.0, 0.0, 0.0, 0.0, 0.0, 0.0, 0.0, 0.0, 0.0, 0.0, 0.0, 0.0, 0.0, 0.0, 0.0, 0.0, 0.0, 0.0, 0.0, 0.0, 0.0, 0.0, 0.0, 0.0, 0.0, 0.0, 0.0, 0.0, 0.0, 0.0, 0.0, 0.0, 0.0, 0.0, 0.0, 0.0, 0.0, 0.0, 0.0, 0.0, 0.0, 0.0, 0.0, 0.0, 0.0, 0.0, 0.0, 0.0, 0.0, 0.0, 0.0, 0.0, 0.0, 0.0, 0.0, 0.0, 0.0, 0.0, 0.0, 0.0, 0.0, 0.0, 0.0, 0.0, 0.0, 0.0, 0.0, 0.0, 0.0, 0.0, 0.0, 0.0, 0.0, 0.0, 0.0, 0.0, 0.0, 0.0, 0.0, 0.0, 0.0, 0.0, 0.0, 0.0, 0.0, 0.0, 0.0, 0.0, 0.0, 0.0, 0.0, 0.0, 0.0, 0.0, 0.0, 0.0, 0.0, 0.0, 0.0, 0.0, 0.0, 0.0, 0.0, 0.0, 0.0, 0.0, 0.0, 0.0, 0.0, 0.0, 0.0, 0.0, 0.0, 0.0, 0.0, 0.0, 0.0, 0.0, 0.0, 0.0, 0.0, 0.0, 0.0, 0.0, 0.0, 0.0, 0.0, 0.0, 0.0, 0.0, 0.0, 0.0, 0.0, 0.0, 0.0, 0.0, 0.0, 0.0, 0.0, 0.0, 0.0, 0.0, 0.0, 0.0, 0.0, 0.0, 0.0, 0.0, 0.0, 0.0, 0.0, 0.0, 0.0, 0.0, 0.0, 0.0, 0.0, 0.0, 0.0, 0.0, 0.0, 0.0, 0.0, 0.0, 0.0, 0.0, 0.0, 0.0, 0.0, 0.0, 0.0, 0.0, 0.0, 0.0, 0.0, 0.0, 0.0, 0.0, 0.0, 0.0, 0.0, 0.0, 0.0, 0.0, 0.0, 0.0, 0.0, 0.0, 0.0, 0.0, 0.0, 0.0, 0.0, 0.0, 0.0, 0.0, 0.0, 0.0, 0.0, 0.0, 0.0, 0.0, 0.0, 0.0, 0.0, 0.0, 0.0, 0.0, 0.0, 0.0, 0.0, 0.0, 0.0, 0.0, 0.0, 0.0, 0.0, 0.0, 0.0, 0.0, 0.0, 0.0, 0.0, 0.0, 0.0, 0.0, 0.0, 0.0, 0.0, 0.0, 0.0, 0.0, 0.0, 0.0, 0.0, 0.0, 0.0, 0.0, 0.0, 0.0, 0.0, 0.0, 0.0, 0.0, 0.0, 0.0, 0.0, 0.0, 0.0, 0.0, 0.0, 0.0, 0.0, 0.0, 0.0, 0.0, 0.0, 0.0, 0.0, 0.0, 0.0, 0.0, 0.0, 0.0, 0.0, 0.0, 0.0, 0.0, 0.0, 0.0, 0.0, 0.0, 0.0, 0.0, 0.0, 0.0, 0.0, 0.0, 0.0, 0.0, 0.0, 0.0, 0.0, 0.0, 0.0, 0.0, 0.0, 0.0, 0.0, 0.0, 0.0, 0.0, 0.0, 0.0, 0.0, 0.0, 0.0, 0.0, 0.0, 0.0, 0.0, 0.0, 0.0, 0.0, 0.0, 0.0, 0.0, 0.0, 0.0, 0.0, 0.0, 0.0, 0.0, 0.0, 0.0, 0.0, 0.0, 0.0, 0.0, 0.0, 0.0, 0.0, 0.0, 0.0, 0.0, 0.0, 0.0, 0.0, 0.0, 0.0, 0.0, 0.0, 0.0, 0.0, 0.0, 0.0, 0.0, 0.0, 0.0, 0.0, 0.0, 0.0, 0.0, 0.0, 0.0, 0.0, 0.0, 0.0, 0.0, 0.0, 0.0, 0.0, 0.0, 0.0, 0.0, 0.0, 0.0, 0.0, 0.0, 0.0, 0.0, 0.0, 0.0, 0.0, 0.0, 0.0, 0.0, 0.0, 0.0, 0.0, 0.0, 0.0, 0.0, 0.0, 0.0, 0.0, 0.0, 0.0, 0.0, 0.0, 0.0, 0.0, 0.0, 0.0, 0.0, 0.0, 0.0, 0.0, 0.0, 0.0, 0.0, 0.0, 0.0, 0.0, 0.0, 0.0, 0.0, 0.0, 0.0, 0.0, 0.0, 0.0, 0.0, 0.0, 0.0, 0.0, 0.0, 0.0, 0.0, 0.0, 0.0, 0.0, 0.0, 0.0, 0.0, 0.0, 0.0, 0.0, 0.0, 0.0, 0.0, 0.0, 0.0, 0.0, 0.0, 0.0, 0.0, 0.0, 0.0, 0.0, 0.0, 0.0, 0.0, 0.0, 0.0, 0.0, 0.0, 0.0, 0.0, 0.0, 0.0, 0.0, 0.0, 0.0, 0.0, 0.0, 0.0, 0.0, 0.0, 0.0, 0.0, 0.0, 0.0, 0.0, 0.0, 0.0, 0.0, 0.0, 0.0, 0.0, 0.0, 0.0, 0.0, 0.0, 0.0, 0.0, 0.0, 0.0, 0.0, 0.0, 0.0, 0.0, 0.0, 0.0, 0.0, 0.0, 0.0, 0.0, 0.0, 0.0, 0.0, 0.0, 0.0, 0.0, 0.0, 0.0, 0.0, 0.0, 0.0, 0.0, 0.0, 0.0, 0.0, 0.0, 0.0, 0.0, 0.0, 0.0, 0.0, 0.0, 0.0, 0.0, 0.0, 0.0, 0.0, 0.0, 0.0, 0.0, 0.0, 0.0, 0.0, 0.0, 0.0, 0.0, 0.0, 0.0, 0.0, 0.0, 0.0, 0.0, 0.0, 0.0, 0.0, 0.0, 0.0, 0.0, 0.0, 0.0, 0.0, 0.0, 0.0, 0.0, 0.0, 0.0, 0.0, 0.0, 0.0, 0.0, 0.0, 0.0, 0.0, 0.0, 0.0, 0.0, 0.0, 0.0, 0.0, 0.0, 0.0, 0.0, 0.0, 0.0, 0.0, 0.0, 0.0, 0.0, 0.0, 0.0, 0.0, 0.0, 0.0, 0.0, 0.0, 0.0, 0.0, 0.0, 0.0, 0.0, 0.0, 0.0, 0.0, 0.0, 0.0, 0.0, 0.0, 0.0, 0.0, 0.0, 0.0, 0.0, 0.0, 0.0, 0.0, 0.0, 0.0, 0.0, 0.0, 0.0, 0.0, 0.0, 0.0, 0.0, 0.0, 0.0, 0.0, 0.0], \"xaxis\": \"x\", \"y\": [0.0, 0.0, 0.0, 0.0, 0.0, 0.0, 0.0, 0.0, 0.0, 0.0, 0.0, 0.0, 0.0, 0.0, 0.0, 0.0, 0.0, 0.0, 0.0, 0.0, 0.0, 0.0, 0.0, 0.0, 0.0, 0.0, 0.0, 0.0, 0.0, 0.0, 0.0, 0.0, 0.0, 0.0, 0.0, 0.0, 0.0, 0.0, 0.0, 0.0, 0.0, 0.0, 0.0, 0.0, 0.0, 0.0, 0.0, 0.0, 0.0, 0.0, 0.0, 0.0, 0.0, 0.0, 0.0, 0.0, 0.0, 0.0, 0.0, 0.0, 0.0, 0.0, 0.0, 0.0, 0.0, 0.0, 0.0, 0.0, 0.0, 0.0, 0.0, 0.0, 0.0, 0.0, 0.0, 0.0, 0.0, 0.0, 0.0, 0.0, 0.0, 0.0, 0.0, 0.0, 0.0, 0.0, 0.0, 0.0, 0.0, 0.0, 0.0, 0.0, 0.0, 0.0, 0.0, 0.0, 0.0, 0.0, 0.0, 0.0, 0.0, 0.0, 0.0, 0.0, 0.0, 0.0, 0.0, 0.0, 0.0, 0.0, 0.0, 0.0, 0.0, 0.0, 0.0, 0.0, 0.0, 0.0, 0.0, 0.3, 0.0, 0.0, 0.0, 0.0, 0.55, 0.0, 0.0, 0.06666666666666667, 0.0, 0.0, 0.06666666666666667, 0.0, 0.5, 0.0, 0.0, 0.5416666666666666, 0.0, 0.0, 0.0, 0.0, 0.0, 0.0, 0.0, 0.0, 0.0, 0.0, 0.0, 0.0, 0.0, 0.0, 0.0, 0.0, 0.0, 0.0, 0.0, 0.0, 0.0, 0.0, 0.0, 0.0, 0.0, 0.0, 0.0, 0.0, 0.0, 0.0, 0.0, 0.0, 0.0, 0.0, 0.0, 0.0, 0.0, 0.0, 0.0, 0.0, 0.0, 0.0, 0.0, 0.0, 0.0, 0.0, 0.0, 0.0, 0.0, 0.0, 0.0, 0.0, 0.0, 0.0, 0.0, 0.0, 0.19166666666666665, 0.0, 1.0, 0.0, 0.5, 0.0, 0.0, 0.0, 0.0, 0.0, 0.0, 0.0, 0.1, 0.0, 0.0, 0.0, 0.0, 0.0, 0.0, 0.5, 0.0, 0.0, 0.0, 0.0, 0.0, 0.5, 0.0, 0.0, 0.0, 0.4, 0.0, 0.0, 0.0, 0.0, 0.0, 0.0, 0.0, 0.0, 0.0, 0.06666666666666667, 0.2, 0.0, 0.0, 0.0, 0.2833333333333334, 0.0, 0.0, 0.5333333333333333, 0.0, 0.0, 0.0, 0.0, 0.0, 0.0, 0.0, 0.0, 0.0, 0.0, 0.0, 0.0, 0.0, 0.0, 0.0, 0.1375, 0.0, 0.0, 0.0, 0.175, 0.525, 0.0, 0.0, 0.0, 0.0, 0.0, 0.0, 0.0, 0.5, 0.35, 0.8, 0.0, 0.0, 0.0, 0.5833333333333333, 0.0, 0.0, 0.0, 0.0, 0.0, 0.25, 0.0, 0.30000000000000004, 0.0, 0.0, 0.0, 0.0, 0.35, 0.1, 0.0, 0.0, 0.0, 0.0, 0.4611111111111111, 0.0, 0.32999999999999996, 0.0, 0.0, 0.0, 0.0, 0.0, 0.0, 0.0, 0.0, 0.0, 0.1, 0.0, 0.0, 0.0, 0.0, 0.0, 0.0, 0.0, 0.0, 0.47500000000000003, 0.0, 0.75, 0.0, 0.0, 0.03333333333333333, 0.5988888888888888, 0.1, 0.0, 0.0, 0.0, 0.03333333333333333, 0.4909090909090909, 0.4918981481481481, 0.3904761904761904, 0.0, 0.0, 0.0, 0.5758333333333333, 0.5, 0.0, 0.0, 0.0, 0.0, 0.0, 0.0, 0.0, 0.0, 0.0, 0.0, 0.0, 0.0, 0.0, 0.0, 0.0, 0.0, 0.0, 0.0, 0.0, 0.0, 0.0, 0.0, 0.0, 0.0, 0.0, 0.0, 0.0, 0.0, 0.0, 0.0, 0.0, 0.0, 0.0, 0.0, 0.0, 0.0, 0.0, 0.0, 0.0, 0.0, 0.0, 0.0, 0.0, 0.0, 0.0, 0.0, 0.0, 0.0, 0.0, 0.0, 0.0, 0.0, 0.0, 0.0, 0.0, 0.0, 0.0, 0.0, 0.0, 0.0, 0.0, 0.0, 0.0, 0.0, 0.0, 0.0, 0.0, 0.0, 0.0, 0.0, 0.0, 0.0, 0.0, 0.0, 0.0, 0.0, 0.0, 0.0, 0.0, 0.0, 0.0, 0.0, 0.0, 0.0, 0.0, 0.0, 0.0, 0.0, 0.0, 0.0, 0.0, 0.0, 0.0, 0.0, 0.0, 0.0, 0.0, 0.0, 0.0, 0.0, 0.0, 0.0, 0.0, 0.0, 0.0, 0.0, 0.0, 0.0, 0.0, 0.0, 0.0, 0.0, 0.0, 0.0, 0.0, 0.0, 0.0, 0.0, 0.0, 0.0, 0.0, 0.0, 0.0, 0.0, 0.0, 0.0, 0.0, 0.0, 0.0, 0.0, 0.0, 0.0, 0.0, 0.0, 0.0, 0.0, 0.0, 0.0, 0.0, 0.0, 0.0, 0.0, 0.0, 0.0, 0.0, 0.0, 0.0, 0.0, 0.0, 0.0, 0.0, 0.0, 0.0, 0.0, 0.0, 0.0, 0.0, 0.0, 0.0, 0.0, 0.0, 0.0, 0.0, 0.0, 0.0, 0.0, 0.0, 0.0, 0.0, 0.0, 0.0, 0.0, 0.0, 0.0, 0.0, 0.0, 0.0, 0.0, 0.0, 0.0, 0.0, 0.0, 0.0, 0.0, 0.0, 0.0, 0.0, 0.0, 0.0, 0.0, 0.0, 0.0, 0.0, 0.0, 0.0, 0.0, 0.0, 0.0, 0.0, 0.0, 0.0, 0.0, 0.0, 0.0, 0.0, 0.0, 0.0, 0.0, 0.0, 0.0, 0.0, 0.0, 0.0, 0.0, 0.0, 0.0, 0.0, 0.0, 0.0, 0.0, 0.0, 0.0, 0.0, 0.0, 0.0, 0.0, 0.0, 0.0, 0.0, 0.0, 0.0, 0.0, 0.0, 0.0, 0.0, 0.0, 0.0, 0.0, 0.0, 0.0, 0.0, 0.0, 0.0, 0.0, 0.0, 0.0, 0.0, 0.0, 0.0, 0.0, 0.0, 0.0, 0.0, 0.0, 0.0, 0.0, 0.0, 0.0, 0.0, 0.0, 0.0, 0.0, 0.0, 0.0, 0.0, 0.0, 0.0, 0.0, 0.0, 0.0, 0.0, 0.0, 0.0, 0.0, 0.0, 0.0, 0.0, 0.0, 0.0, 0.0, 0.0, 0.0, 0.0, 0.0, 0.0, 0.0, 0.0, 0.0, 0.0, 0.0, 0.0, 0.0, 0.0, 0.0, 0.0, 0.0, 0.0, 0.0, 0.0, 0.0, 0.0, 0.0, 0.0, 0.0, 0.0, 0.0, 0.0, 0.0, 0.0, 0.0, 0.0, 0.0, 0.0, 0.0, 0.0, 0.0, 0.0, 0.0, 0.0, 0.0, 0.0, 0.0, 0.0, 0.0, 0.0, 0.0, 0.0, 0.0, 0.0, 0.0, 0.0, 0.0, 0.0, 0.0, 0.0, 0.0, 0.0, 0.0, 0.0, 0.0, 0.0, 0.0, 0.0, 0.0, 0.0, 0.0, 0.0, 0.0, 0.0, 0.0, 0.0, 0.0, 0.0, 0.0, 0.0, 0.0, 0.0, 0.0, 0.0, 0.0, 0.0, 0.0, 0.0, 0.0, 0.0, 0.0, 0.0, 0.0, 0.0, 0.0, 0.0, 0.0, 0.0, 0.0, 0.0, 0.0, 0.0, 0.0, 0.0, 0.0, 0.0, 0.0, 0.0, 0.0, 0.0, 0.0, 0.0, 0.0, 0.0, 0.0, 0.0, 0.0, 0.0, 0.0, 0.0, 0.0, 0.0, 0.0, 0.0, 0.0, 0.0, 0.0, 0.0, 0.0, 0.0, 0.0, 0.0, 0.0, 0.0, 0.0, 0.0, 0.0, 0.0, 0.0, 0.0, 0.0, 0.0, 0.0, 0.0, 0.0, 0.0, 0.0, 0.0, 0.0, 0.0, 0.0, 0.0, 0.0, 0.0, 0.0, 0.0, 0.0, 0.0, 0.0, 0.0, 0.0, 0.0, 0.0, 0.0, 0.0, 0.0, 0.0, 0.0, 0.0, 0.0, 0.0, 0.0, 0.0, 0.0, 0.0, 0.0, 0.0, 0.0, 0.0, 0.0, 0.0, 0.0, 0.0, 0.0, 0.0, 0.0, 0.0, 0.0, 0.0, 0.0, 0.0, 0.0, 0.0, 0.0, 0.0, 0.0, 0.0, 0.0, 0.0, 0.0, 0.0, 0.0, 0.0, 0.0, 0.0, 0.0, 0.0, 0.0, 0.0, 0.0, 0.0, 0.0, 0.0, 0.0, 0.0, 0.0, 0.0, 0.0, 0.0, 0.0, 0.0, 0.0, 0.0, 0.0, 0.0, 0.0, 0.0, 0.0, 0.0, 0.0, 0.0, 0.0, 0.0, 0.0, 0.0, 0.0, 0.0, 0.0, 0.0, 0.0, 0.0, 0.0, 0.0, 0.0, 0.0, 0.0, 0.0, 0.0, 0.0, 0.0, 0.0, 0.0, 0.0, 0.0, 0.0, 0.0, 0.0, 0.0, 0.0, 0.0, 0.0, 0.0, 0.0, 0.0, 0.0, 0.0, 0.0, 0.0, 0.0, 0.0, 0.0, 0.0, 0.0, 0.0, 0.0, 0.0, 0.0, 0.0, 0.0, 0.0, 0.0, 0.0, 0.0, 0.0, 0.0, 0.0, 0.0, 0.0, 0.0, 0.0, 0.0, 0.0, 0.0, 0.0, 0.0, 0.0, 0.0, 0.0, 0.0, 0.0, 0.0, 0.0, 0.0, 0.0, 0.0, 0.0, 0.0, 0.0, 0.0, 0.0, 0.0, 0.0, 0.0, 0.0, 0.0, 0.0, 0.0, 0.0, 0.0, 0.0, 0.0, 0.0, 0.0, 0.0, 0.0, 0.0, 0.0, 0.0, 0.0, 0.0, 0.0, 0.0, 0.0, 0.0, 0.0, 0.0, 0.0, 0.0, 0.0, 0.0, 0.0, 0.0, 0.0, 0.0, 0.0, 0.0, 0.0, 0.0, 0.0, 0.0, 0.0, 0.0, 0.0, 0.0, 0.0, 0.0, 0.0, 0.0, 0.0, 0.0, 0.0, 0.0, 0.0, 0.0, 0.0, 0.0, 0.0, 0.0, 0.0, 0.0, 0.0, 0.0, 0.0, 0.0, 0.0, 0.0, 0.0, 0.0, 0.0, 0.0, 0.0, 0.0, 0.0, 0.0, 0.0, 0.0, 0.0, 0.0, 0.0, 0.0, 0.0, 0.0, 0.0, 0.0, 0.0, 0.0, 0.0, 0.0, 0.0, 0.0, 0.0, 0.0, 0.0, 0.0, 0.0, 0.0, 0.0, 0.0, 0.0, 0.0, 0.0, 0.0, 0.0, 0.0, 0.0, 0.0, 0.0, 0.0, 0.0, 0.0, 0.0, 0.0, 0.0, 0.0, 0.0, 0.0, 0.0, 0.0, 0.0, 0.0, 0.0, 0.0, 0.0, 0.0, 0.0, 0.0, 0.0, 0.0, 0.0, 0.0, 0.0, 0.0, 0.0, 0.0, 0.0, 0.0, 0.0, 0.0, 0.0, 0.0, 0.0, 0.0, 0.0, 0.0, 0.0, 0.0, 0.0, 0.0, 0.0, 0.0, 0.0, 0.0, 0.0, 0.0, 0.0, 0.0, 0.0, 0.0, 0.0, 0.0, 0.0, 0.0, 0.0, 0.0, 0.0, 0.0, 0.0, 0.0, 0.0, 0.0, 0.0, 0.0, 0.0, 0.0, 0.0, 0.0, 0.0, 0.0, 0.0, 0.0, 0.0, 0.0, 0.0, 0.0, 0.0, 0.0, 0.0, 0.0, 0.0, 0.0, 0.0, 0.0, 0.0, 0.0, 0.0, 0.0, 0.0, 0.0, 0.0, 0.0, 0.0, 0.0, 0.0, 0.0, 0.0, 0.0, 0.0, 0.0, 0.0, 0.0, 0.0, 0.0, 0.0, 0.0, 0.0, 0.0, 0.0, 0.0, 0.0, 0.0, 0.0, 0.0, 0.0, 0.0, 0.0, 0.0, 0.0, 0.0, 0.0, 0.0, 0.0, 0.0, 0.0, 0.0, 0.0, 0.0, 0.0, 0.0, 0.0, 0.0, 0.0, 0.0, 0.0, 0.0, 0.0, 0.0, 0.0, 0.0, 0.0, 0.0, 0.0, 0.0, 0.0, 0.0, 0.0, 0.0, 0.0, 0.0, 0.0, 0.0, 0.0, 0.0, 0.0, 0.0, 0.0, 0.0, 0.0, 0.0, 0.0, 0.0, 0.0, 0.0, 0.0, 0.0, 0.0, 0.0, 0.0, 0.0, 0.0, 0.0, 0.0, 0.0, 0.0, 0.0, 0.0, 0.0, 0.0, 0.0, 0.0, 0.0, 0.0, 0.0, 0.0, 0.0, 0.0, 0.0, 0.0, 0.0, 0.0, 0.0, 0.0, 0.0, 0.0, 0.0, 0.0, 0.0, 0.0, 0.0, 0.0, 0.0, 0.0, 0.0, 0.0, 0.0, 0.0, 0.0, 0.0, 0.0, 0.0, 0.0, 0.0, 0.0, 0.0, 0.0, 0.0, 0.0, 0.0, 0.0, 0.0, 0.0, 0.0, 0.0, 0.0, 0.0, 0.0, 0.0, 0.0, 0.0, 0.0, 0.0, 0.0, 0.0, 0.0, 0.0, 0.0, 0.0, 0.0, 0.0, 0.0, 0.0, 0.0, 0.0, 0.0, 0.0, 0.0, 0.0, 0.0, 0.0, 0.0, 0.0, 0.0, 0.0, 0.0, 0.0, 0.0, 0.0, 0.0, 0.0, 0.0, 0.0, 0.0, 0.0, 0.0, 0.0, 0.0, 0.0, 0.0, 0.0, 0.0, 0.0, 0.0, 0.0, 0.0, 0.0, 0.0, 0.0, 0.0, 0.0, 0.0, 0.0, 0.0, 0.0, 0.0], \"yaxis\": \"y\"}, {\"hoverlabel\": {\"namelength\": 0}, \"hovertemplate\": \"Title_Sentiment_Value=Positive<br>title_polarity=%{x}<br>title_subjectivity=%{y}\", \"legendgroup\": \"Title_Sentiment_Value=Positive\", \"marker\": {\"color\": \"#EF553B\", \"symbol\": \"circle\"}, \"mode\": \"markers\", \"name\": \"Title_Sentiment_Value=Positive\", \"showlegend\": true, \"type\": \"scattergl\", \"x\": [0.1, 0.3, 0.25, 0.13636363636363635, 0.8, 0.19999999999999998, 0.8, 0.06666666666666667, 0.1787878787878788, 1.0, 0.05000000000000001, 0.8, 0.2857142857142857, 0.125, 0.4, 0.5, 0.2, 0.1, 0.8, 0.13636363636363635, 0.5, 0.2, 0.4666666666666666, 0.4000000000000001, 0.4125, 0.2, 0.12500000000000003, 0.35, 0.2333333333333334, 0.4, 0.125, 0.13636363636363635, 0.35, 0.22878787878787876, 0.16666666666666666, 1.0, 0.5, 0.17045454545454544, 0.275, 0.09999999999999999, 0.35, 0.275, 0.375, 0.10714285714285714, 0.3, 0.21000000000000002, 0.2, 1.0, 0.6, 0.10000000000000002, 0.5, 0.1, 0.35, 0.17857142857142858, 0.25, 0.25, 0.35, 0.175, 0.2, 0.1, 0.25, 0.13636363636363635, 0.5, 0.06666666666666667, 0.13636363636363635, 0.15, 0.09659090909090909, 0.31916666666666665, 0.25, 0.1431818181818182, 0.1, 0.8, 0.18333333333333335, 0.10714285714285714, 0.2, 0.43333333333333335, 0.5, 0.5859375, 0.25, 0.21428571428571427, 0.4166666666666667, 0.35, 0.2, 0.2125, 0.2380952380952381, 0.2380952380952381, 0.19999999999999998, 0.1, 0.19999999999999998, 0.7, 0.5, 0.10000000000000002, 0.4, 0.19166666666666665, 0.2, 0.8, 0.30714285714285716, 0.5, 0.2, 0.4, 0.5, 0.4, 0.15000000000000002, 0.15000000000000002, 0.2625, 0.5, 0.3, 0.375, 0.4, 0.125, 0.06190476190476191, 0.33333333333333337, 0.1, 0.1, 0.3869047619047619, 0.07142857142857142, 0.17777777777777778, 0.25, 0.0625, 0.22395833333333331, 0.10714285714285714, 0.5, 0.5], \"xaxis\": \"x\", \"y\": [0.4, 0.9, 0.5, 0.45454545454545453, 0.75, 0.4000000000000001, 0.4, 0.15, 0.3070707070707071, 1.0, 0.25416666666666665, 0.7, 0.5357142857142857, 0.8333333333333334, 0.4, 0.5, 0.9, 0.7, 1.0, 0.5, 0.625, 0.2, 0.6, 0.9, 0.45000000000000007, 0.2, 0.3833333333333333, 0.65, 0.7944444444444444, 0.8, 0.425, 0.45454545454545453, 0.65, 0.6015151515151514, 0.3333333333333333, 0.3, 0.5, 0.5, 0.6, 0.2962962962962963, 0.55, 0.5249999999999999, 0.75, 0.4857142857142857, 0.48333333333333334, 0.34, 0.5, 1.0, 0.30000000000000004, 0.3833333333333333, 0.6296296296296297, 1.0, 0.7, 0.3452380952380952, 0.25, 0.3333333333333333, 0.45, 0.725, 0.2, 0.4, 0.65, 0.45454545454545453, 0.5, 0.06666666666666667, 0.45454545454545453, 0.225, 0.43863636363636366, 0.63, 0.25, 0.5522727272727272, 0.35, 0.9, 0.31666666666666665, 0.2857142857142857, 0.7, 0.8333333333333334, 0.525, 0.0, 0.25, 0.5714285714285714, 0.5, 0.55, 0.2, 0.4288690476190476, 0.4523809523809524, 0.3666666666666667, 0.26666666666666666, 0.4, 0.4666666666666666, 0.6000000000000001, 1.0, 0.43333333333333335, 1.0, 0.2833333333333333, 0.2, 0.7, 0.7357142857142858, 0.75, 0.2, 0.7, 0.5, 0.7, 0.35000000000000003, 0.19166666666666665, 0.43333333333333335, 0.8888888888888888, 0.1, 0.41666666666666663, 0.6, 0.18333333333333332, 0.6452380952380952, 0.5145833333333334, 0.3, 0.65, 0.6785714285714286, 0.26785714285714285, 0.35555555555555557, 0.3333333333333333, 0.6875, 0.5, 0.21047619047619048, 0.6, 1.0], \"yaxis\": \"y\"}, {\"hoverlabel\": {\"namelength\": 0}, \"hovertemplate\": \"Title_Sentiment_Value=Negative<br>title_polarity=%{x}<br>title_subjectivity=%{y}\", \"legendgroup\": \"Title_Sentiment_Value=Negative\", \"marker\": {\"color\": \"#00cc96\", \"symbol\": \"circle\"}, \"mode\": \"markers\", \"name\": \"Title_Sentiment_Value=Negative\", \"showlegend\": true, \"type\": \"scattergl\", \"x\": [-0.125, -0.1, -0.65, -0.30000000000000004, -0.6, -0.5, -0.6, -0.3, -0.36666666666666664, -0.8, -0.3, -0.7999999999999999, -0.11249999999999999, -0.6999999999999998, -0.25, -0.8749999999999998, -0.3125, -0.5, -0.4, -0.07000000000000002, -0.26666666666666666, -0.5, -0.6, -0.55, -0.30000000000000004, -0.1, -0.14821428571428572, -0.3666666666666667, -1.0, -0.23809523809523814, -0.2, -0.35, -0.5, -0.125, -0.06666666666666667, -0.2, -0.5, -0.5, -0.4, -0.06666666666666667, -0.2, -0.5, -0.5, -0.3, -0.1, -0.125, -0.25, -0.35714285714285715, -0.09999999999999992, -0.15000000000000002, -0.5, -0.4, -0.24666666666666667, -0.06666666666666667, -0.35, -1.0, -0.2, -0.05555555555555555, -0.4, -0.19999999999999998, -0.5, -0.25, -0.4, -0.15555555555555559, -0.16666666666666666, -1.0, -0.13749999999999998, -0.18333333333333335, -0.3166666666666667, -0.5, -0.2333333333333333, -0.1, -0.35, -0.3, -0.1, -0.1, -0.375, -0.06666666666666665, -0.5, -0.20390720390720393, -0.4, -0.12291666666666667, -0.7, -0.1, -0.15, -0.06590909090909093, -0.19666666666666663, -0.1, -0.12187500000000001, -0.06666666666666667, -0.1875, -0.2, -0.78125, -0.7, -0.2, -0.25], \"xaxis\": \"x\", \"y\": [1.0, 0.4, 0.8, 0.39999999999999997, 0.9, 1.0, 0.9, 0.5, 0.5888888888888889, 0.8, 0.5, 1.0, 0.85, 0.6666666666666666, 0.4, 0.6666666666666666, 0.6875, 1.0, 0.7, 0.37, 0.6333333333333333, 1.0, 0.9, 0.95, 0.7, 0.4625, 0.5011904761904761, 0.4666666666666666, 1.0, 0.5785714285714286, 0.4, 0.7, 1.0, 0.125, 0.2222222222222222, 0.2, 0.9, 1.0, 0.95, 0.3, 0.4, 0.5, 1.0, 0.525, 0.4, 0.375, 0.875, 0.42857142857142855, 0.5833333333333333, 0.3, 1.0, 0.8, 0.6133333333333333, 0.4785714285714286, 0.7, 1.0, 0.4, 0.14444444444444446, 0.9, 0.6, 0.29999999999999993, 0.2, 0.4, 0.2888888888888889, 0.5, 1.0, 0.6166666666666666, 0.4083333333333334, 0.5666666666666667, 0.5, 0.5666666666666667, 0.5914285714285714, 0.3666666666666667, 0.5, 0.0, 0.45, 1.0, 0.6777777777777777, 0.7, 0.6062271062271062, 0.7, 0.5104166666666666, 0.8, 0.32499999999999996, 0.35, 0.38863636363636367, 0.62, 0.1, 0.55, 0.6428571428571429, 0.5, 0.8, 1.0, 0.85, 0.2, 0.4], \"yaxis\": \"y\"}],\n",
              "                        {\"legend\": {\"bgcolor\": \"yellow\", \"tracegroupgap\": 0}, \"margin\": {\"t\": 60}, \"paper_bgcolor\": \"rgba(0, 0, 0, 0)\", \"plot_bgcolor\": \"rgba(0, 0, 0, 0)\", \"template\": {\"data\": {\"bar\": [{\"error_x\": {\"color\": \"#2a3f5f\"}, \"error_y\": {\"color\": \"#2a3f5f\"}, \"marker\": {\"line\": {\"color\": \"#E5ECF6\", \"width\": 0.5}}, \"type\": \"bar\"}], \"barpolar\": [{\"marker\": {\"line\": {\"color\": \"#E5ECF6\", \"width\": 0.5}}, \"type\": \"barpolar\"}], \"carpet\": [{\"aaxis\": {\"endlinecolor\": \"#2a3f5f\", \"gridcolor\": \"white\", \"linecolor\": \"white\", \"minorgridcolor\": \"white\", \"startlinecolor\": \"#2a3f5f\"}, \"baxis\": {\"endlinecolor\": \"#2a3f5f\", \"gridcolor\": \"white\", \"linecolor\": \"white\", \"minorgridcolor\": \"white\", \"startlinecolor\": \"#2a3f5f\"}, \"type\": \"carpet\"}], \"choropleth\": [{\"colorbar\": {\"outlinewidth\": 0, \"ticks\": \"\"}, \"type\": \"choropleth\"}], \"contour\": [{\"colorbar\": {\"outlinewidth\": 0, \"ticks\": \"\"}, \"colorscale\": [[0.0, \"#0d0887\"], [0.1111111111111111, \"#46039f\"], [0.2222222222222222, \"#7201a8\"], [0.3333333333333333, \"#9c179e\"], [0.4444444444444444, \"#bd3786\"], [0.5555555555555556, \"#d8576b\"], [0.6666666666666666, \"#ed7953\"], [0.7777777777777778, \"#fb9f3a\"], [0.8888888888888888, \"#fdca26\"], [1.0, \"#f0f921\"]], \"type\": \"contour\"}], \"contourcarpet\": [{\"colorbar\": {\"outlinewidth\": 0, \"ticks\": \"\"}, \"type\": \"contourcarpet\"}], \"heatmap\": [{\"colorbar\": {\"outlinewidth\": 0, \"ticks\": \"\"}, \"colorscale\": [[0.0, \"#0d0887\"], [0.1111111111111111, \"#46039f\"], [0.2222222222222222, \"#7201a8\"], [0.3333333333333333, \"#9c179e\"], [0.4444444444444444, \"#bd3786\"], [0.5555555555555556, \"#d8576b\"], [0.6666666666666666, \"#ed7953\"], [0.7777777777777778, \"#fb9f3a\"], [0.8888888888888888, \"#fdca26\"], [1.0, \"#f0f921\"]], \"type\": \"heatmap\"}], \"heatmapgl\": [{\"colorbar\": {\"outlinewidth\": 0, \"ticks\": \"\"}, \"colorscale\": [[0.0, \"#0d0887\"], [0.1111111111111111, \"#46039f\"], [0.2222222222222222, \"#7201a8\"], [0.3333333333333333, \"#9c179e\"], [0.4444444444444444, \"#bd3786\"], [0.5555555555555556, \"#d8576b\"], [0.6666666666666666, \"#ed7953\"], [0.7777777777777778, \"#fb9f3a\"], [0.8888888888888888, \"#fdca26\"], [1.0, \"#f0f921\"]], \"type\": \"heatmapgl\"}], \"histogram\": [{\"marker\": {\"colorbar\": {\"outlinewidth\": 0, \"ticks\": \"\"}}, \"type\": \"histogram\"}], \"histogram2d\": [{\"colorbar\": {\"outlinewidth\": 0, \"ticks\": \"\"}, \"colorscale\": [[0.0, \"#0d0887\"], [0.1111111111111111, \"#46039f\"], [0.2222222222222222, \"#7201a8\"], [0.3333333333333333, \"#9c179e\"], [0.4444444444444444, \"#bd3786\"], [0.5555555555555556, \"#d8576b\"], [0.6666666666666666, \"#ed7953\"], [0.7777777777777778, \"#fb9f3a\"], [0.8888888888888888, \"#fdca26\"], [1.0, \"#f0f921\"]], \"type\": \"histogram2d\"}], \"histogram2dcontour\": [{\"colorbar\": {\"outlinewidth\": 0, \"ticks\": \"\"}, \"colorscale\": [[0.0, \"#0d0887\"], [0.1111111111111111, \"#46039f\"], [0.2222222222222222, \"#7201a8\"], [0.3333333333333333, \"#9c179e\"], [0.4444444444444444, \"#bd3786\"], [0.5555555555555556, \"#d8576b\"], [0.6666666666666666, \"#ed7953\"], [0.7777777777777778, \"#fb9f3a\"], [0.8888888888888888, \"#fdca26\"], [1.0, \"#f0f921\"]], \"type\": \"histogram2dcontour\"}], \"mesh3d\": [{\"colorbar\": {\"outlinewidth\": 0, \"ticks\": \"\"}, \"type\": \"mesh3d\"}], \"parcoords\": [{\"line\": {\"colorbar\": {\"outlinewidth\": 0, \"ticks\": \"\"}}, \"type\": \"parcoords\"}], \"pie\": [{\"automargin\": true, \"type\": \"pie\"}], \"scatter\": [{\"marker\": {\"colorbar\": {\"outlinewidth\": 0, \"ticks\": \"\"}}, \"type\": \"scatter\"}], \"scatter3d\": [{\"line\": {\"colorbar\": {\"outlinewidth\": 0, \"ticks\": \"\"}}, \"marker\": {\"colorbar\": {\"outlinewidth\": 0, \"ticks\": \"\"}}, \"type\": \"scatter3d\"}], \"scattercarpet\": [{\"marker\": {\"colorbar\": {\"outlinewidth\": 0, \"ticks\": \"\"}}, \"type\": \"scattercarpet\"}], \"scattergeo\": [{\"marker\": {\"colorbar\": {\"outlinewidth\": 0, \"ticks\": \"\"}}, \"type\": \"scattergeo\"}], \"scattergl\": [{\"marker\": {\"colorbar\": {\"outlinewidth\": 0, \"ticks\": \"\"}}, \"type\": \"scattergl\"}], \"scattermapbox\": [{\"marker\": {\"colorbar\": {\"outlinewidth\": 0, \"ticks\": \"\"}}, \"type\": \"scattermapbox\"}], \"scatterpolar\": [{\"marker\": {\"colorbar\": {\"outlinewidth\": 0, \"ticks\": \"\"}}, \"type\": \"scatterpolar\"}], \"scatterpolargl\": [{\"marker\": {\"colorbar\": {\"outlinewidth\": 0, \"ticks\": \"\"}}, \"type\": \"scatterpolargl\"}], \"scatterternary\": [{\"marker\": {\"colorbar\": {\"outlinewidth\": 0, \"ticks\": \"\"}}, \"type\": \"scatterternary\"}], \"surface\": [{\"colorbar\": {\"outlinewidth\": 0, \"ticks\": \"\"}, \"colorscale\": [[0.0, \"#0d0887\"], [0.1111111111111111, \"#46039f\"], [0.2222222222222222, \"#7201a8\"], [0.3333333333333333, \"#9c179e\"], [0.4444444444444444, \"#bd3786\"], [0.5555555555555556, \"#d8576b\"], [0.6666666666666666, \"#ed7953\"], [0.7777777777777778, \"#fb9f3a\"], [0.8888888888888888, \"#fdca26\"], [1.0, \"#f0f921\"]], \"type\": \"surface\"}], \"table\": [{\"cells\": {\"fill\": {\"color\": \"#EBF0F8\"}, \"line\": {\"color\": \"white\"}}, \"header\": {\"fill\": {\"color\": \"#C8D4E3\"}, \"line\": {\"color\": \"white\"}}, \"type\": \"table\"}]}, \"layout\": {\"annotationdefaults\": {\"arrowcolor\": \"#2a3f5f\", \"arrowhead\": 0, \"arrowwidth\": 1}, \"coloraxis\": {\"colorbar\": {\"outlinewidth\": 0, \"ticks\": \"\"}}, \"colorscale\": {\"diverging\": [[0, \"#8e0152\"], [0.1, \"#c51b7d\"], [0.2, \"#de77ae\"], [0.3, \"#f1b6da\"], [0.4, \"#fde0ef\"], [0.5, \"#f7f7f7\"], [0.6, \"#e6f5d0\"], [0.7, \"#b8e186\"], [0.8, \"#7fbc41\"], [0.9, \"#4d9221\"], [1, \"#276419\"]], \"sequential\": [[0.0, \"#0d0887\"], [0.1111111111111111, \"#46039f\"], [0.2222222222222222, \"#7201a8\"], [0.3333333333333333, \"#9c179e\"], [0.4444444444444444, \"#bd3786\"], [0.5555555555555556, \"#d8576b\"], [0.6666666666666666, \"#ed7953\"], [0.7777777777777778, \"#fb9f3a\"], [0.8888888888888888, \"#fdca26\"], [1.0, \"#f0f921\"]], \"sequentialminus\": [[0.0, \"#0d0887\"], [0.1111111111111111, \"#46039f\"], [0.2222222222222222, \"#7201a8\"], [0.3333333333333333, \"#9c179e\"], [0.4444444444444444, \"#bd3786\"], [0.5555555555555556, \"#d8576b\"], [0.6666666666666666, \"#ed7953\"], [0.7777777777777778, \"#fb9f3a\"], [0.8888888888888888, \"#fdca26\"], [1.0, \"#f0f921\"]]}, \"colorway\": [\"#636efa\", \"#EF553B\", \"#00cc96\", \"#ab63fa\", \"#FFA15A\", \"#19d3f3\", \"#FF6692\", \"#B6E880\", \"#FF97FF\", \"#FECB52\"], \"font\": {\"color\": \"#2a3f5f\"}, \"geo\": {\"bgcolor\": \"white\", \"lakecolor\": \"white\", \"landcolor\": \"#E5ECF6\", \"showlakes\": true, \"showland\": true, \"subunitcolor\": \"white\"}, \"hoverlabel\": {\"align\": \"left\"}, \"hovermode\": \"closest\", \"mapbox\": {\"style\": \"light\"}, \"paper_bgcolor\": \"white\", \"plot_bgcolor\": \"#E5ECF6\", \"polar\": {\"angularaxis\": {\"gridcolor\": \"white\", \"linecolor\": \"white\", \"ticks\": \"\"}, \"bgcolor\": \"#E5ECF6\", \"radialaxis\": {\"gridcolor\": \"white\", \"linecolor\": \"white\", \"ticks\": \"\"}}, \"scene\": {\"xaxis\": {\"backgroundcolor\": \"#E5ECF6\", \"gridcolor\": \"white\", \"gridwidth\": 2, \"linecolor\": \"white\", \"showbackground\": true, \"ticks\": \"\", \"zerolinecolor\": \"white\"}, \"yaxis\": {\"backgroundcolor\": \"#E5ECF6\", \"gridcolor\": \"white\", \"gridwidth\": 2, \"linecolor\": \"white\", \"showbackground\": true, \"ticks\": \"\", \"zerolinecolor\": \"white\"}, \"zaxis\": {\"backgroundcolor\": \"#E5ECF6\", \"gridcolor\": \"white\", \"gridwidth\": 2, \"linecolor\": \"white\", \"showbackground\": true, \"ticks\": \"\", \"zerolinecolor\": \"white\"}}, \"shapedefaults\": {\"line\": {\"color\": \"#2a3f5f\"}}, \"ternary\": {\"aaxis\": {\"gridcolor\": \"white\", \"linecolor\": \"white\", \"ticks\": \"\"}, \"baxis\": {\"gridcolor\": \"white\", \"linecolor\": \"white\", \"ticks\": \"\"}, \"bgcolor\": \"#E5ECF6\", \"caxis\": {\"gridcolor\": \"white\", \"linecolor\": \"white\", \"ticks\": \"\"}}, \"title\": {\"x\": 0.05}, \"xaxis\": {\"automargin\": true, \"gridcolor\": \"white\", \"linecolor\": \"white\", \"ticks\": \"\", \"title\": {\"standoff\": 15}, \"zerolinecolor\": \"white\", \"zerolinewidth\": 2}, \"yaxis\": {\"automargin\": true, \"gridcolor\": \"white\", \"linecolor\": \"white\", \"ticks\": \"\", \"title\": {\"standoff\": 15}, \"zerolinecolor\": \"white\", \"zerolinewidth\": 2}}}, \"xaxis\": {\"anchor\": \"y\", \"domain\": [0.0, 1.0], \"title\": {\"text\": \"title_polarity\"}}, \"yaxis\": {\"anchor\": \"x\", \"domain\": [0.0, 1.0], \"title\": {\"text\": \"title_subjectivity\"}}},\n",
              "                        {\"responsive\": true}\n",
              "                    ).then(function(){\n",
              "                            \n",
              "var gd = document.getElementById('ba7fb02d-69fb-4ad9-8c65-825e74a4ddfb');\n",
              "var x = new MutationObserver(function (mutations, observer) {{\n",
              "        var display = window.getComputedStyle(gd).display;\n",
              "        if (!display || display === 'none') {{\n",
              "            console.log([gd, 'removed!']);\n",
              "            Plotly.purge(gd);\n",
              "            observer.disconnect();\n",
              "        }}\n",
              "}});\n",
              "\n",
              "// Listen for the removal of the full notebook cells\n",
              "var notebookContainer = gd.closest('#notebook-container');\n",
              "if (notebookContainer) {{\n",
              "    x.observe(notebookContainer, {childList: true});\n",
              "}}\n",
              "\n",
              "// Listen for the clearing of the current output cell\n",
              "var outputEl = gd.closest('.output');\n",
              "if (outputEl) {{\n",
              "    x.observe(outputEl, {childList: true});\n",
              "}}\n",
              "\n",
              "                        })\n",
              "                };\n",
              "                \n",
              "            </script>\n",
              "        </div>\n",
              "</body>\n",
              "</html>"
            ]
          },
          "metadata": {
            "tags": []
          }
        }
      ]
    },
    {
      "cell_type": "markdown",
      "metadata": {
        "id": "QXOaMYyMlYw7"
      },
      "source": [
        "Clasificadores"
      ]
    },
    {
      "cell_type": "code",
      "metadata": {
        "id": "R7Vyw23lkPFZ"
      },
      "source": [
        "x = matriz_titulos.toarray()\n",
        "y = is_sarc\n",
        "\n",
        "from sklearn.model_selection import train_test_split\n",
        "xtrain, xtest, ytrain, ytest = train_test_split(x,y,test_size=0.2,random_state=42,stratify=y)"
      ],
      "execution_count": null,
      "outputs": []
    },
    {
      "cell_type": "code",
      "metadata": {
        "id": "5gDjh0KmkPJk"
      },
      "source": [
        ""
      ],
      "execution_count": null,
      "outputs": []
    },
    {
      "cell_type": "code",
      "metadata": {
        "id": "Yw-hytOZkPMG"
      },
      "source": [
        ""
      ],
      "execution_count": null,
      "outputs": []
    },
    {
      "cell_type": "code",
      "metadata": {
        "id": "2JpBG-iWkPOj"
      },
      "source": [
        ""
      ],
      "execution_count": null,
      "outputs": []
    },
    {
      "cell_type": "code",
      "metadata": {
        "id": "zYJrOti5kPQ3"
      },
      "source": [
        ""
      ],
      "execution_count": null,
      "outputs": []
    },
    {
      "cell_type": "code",
      "metadata": {
        "id": "KAjdOg3skPSu"
      },
      "source": [
        ""
      ],
      "execution_count": null,
      "outputs": []
    },
    {
      "cell_type": "code",
      "metadata": {
        "id": "dMqbdOpskPVc"
      },
      "source": [
        ""
      ],
      "execution_count": null,
      "outputs": []
    },
    {
      "cell_type": "code",
      "metadata": {
        "id": "bTlTN3JpkPXc"
      },
      "source": [
        ""
      ],
      "execution_count": null,
      "outputs": []
    },
    {
      "cell_type": "code",
      "metadata": {
        "id": "r_aleWkEkPaD"
      },
      "source": [
        ""
      ],
      "execution_count": null,
      "outputs": []
    },
    {
      "cell_type": "code",
      "metadata": {
        "id": "QEEmwQwtkPce"
      },
      "source": [
        ""
      ],
      "execution_count": null,
      "outputs": []
    },
    {
      "cell_type": "code",
      "metadata": {
        "id": "oyilM_xkkPfG"
      },
      "source": [
        ""
      ],
      "execution_count": null,
      "outputs": []
    }
  ]
}